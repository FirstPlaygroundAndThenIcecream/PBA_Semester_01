{
 "cells": [
  {
   "cell_type": "code",
   "execution_count": 56,
   "metadata": {},
   "outputs": [],
   "source": [
    "#imports\n",
    "import os\n",
    "from six.moves import urllib\n",
    "import pandas as pd\n",
    "import numpy as np \n",
    "from sklearn.model_selection import train_test_split\n",
    "from sklearn.preprocessing import MinMaxScaler, StandardScaler, LabelEncoder, OneHotEncoder\n",
    "from sklearn.linear_model import LogisticRegression\n",
    "from sklearn.metrics import confusion_matrix\n",
    "from sklearn import metrics\n",
    "import matplotlib.pyplot as plt\n",
    "from sklearn.model_selection import GridSearchCV, RandomizedSearchCV\n",
    "import seaborn as sns\n",
    "from sklearn import svm\n",
    "from sklearn.ensemble import RandomForestClassifier\n",
    "from sklearn.naive_bayes import GaussianNB\n",
    "from sklearn.metrics import accuracy_score\n",
    "from sklearn.model_selection import cross_val_score, cross_val_predict\n",
    "from statsmodels import robust\n",
    "from sklearn.compose import ColumnTransformer, make_column_transformer\n",
    "from sklearn.tree import DecisionTreeClassifier\n",
    "from sklearn.metrics import precision_score, recall_score, f1_score, roc_curve, roc_auc_score, precision_recall_curve"
   ]
  },
  {
   "cell_type": "code",
   "execution_count": 57,
   "metadata": {},
   "outputs": [],
   "source": [
    "DOWNLOAD_ROOT = \"http://archive.ics.uci.edu/ml/machine-learning-databases/credit-screening\"\n",
    "CREDIT_DATA_URL = DOWNLOAD_ROOT + \"/crx.data\"\n",
    "CREDIT_DATA_PATH = \"datasets/credit-screening\""
   ]
  },
  {
   "cell_type": "code",
   "execution_count": 58,
   "metadata": {},
   "outputs": [],
   "source": [
    "# fetch data from its origin\n",
    "def fetch_credit_crad_data(credit_data_url=CREDIT_DATA_URL, credit_path=CREDIT_DATA_PATH):\n",
    "    if not os.path.isdir(credit_path):\n",
    "        os.makedirs(credit_path)\n",
    "    credit_data_path = os.path.join(credit_path, \"crx.data\")\n",
    "    urllib.request.urlretrieve(credit_data_url, credit_data_path)\n",
    "\n",
    "fetch_credit_crad_data()"
   ]
  },
  {
   "cell_type": "code",
   "execution_count": 59,
   "metadata": {},
   "outputs": [
    {
     "data": {
      "text/html": [
       "<div>\n",
       "<style scoped>\n",
       "    .dataframe tbody tr th:only-of-type {\n",
       "        vertical-align: middle;\n",
       "    }\n",
       "\n",
       "    .dataframe tbody tr th {\n",
       "        vertical-align: top;\n",
       "    }\n",
       "\n",
       "    .dataframe thead th {\n",
       "        text-align: right;\n",
       "    }\n",
       "</style>\n",
       "<table border=\"1\" class=\"dataframe\">\n",
       "  <thead>\n",
       "    <tr style=\"text-align: right;\">\n",
       "      <th></th>\n",
       "      <th>0</th>\n",
       "      <th>1</th>\n",
       "      <th>2</th>\n",
       "      <th>3</th>\n",
       "      <th>4</th>\n",
       "    </tr>\n",
       "  </thead>\n",
       "  <tbody>\n",
       "    <tr>\n",
       "      <th>Gender</th>\n",
       "      <td>b</td>\n",
       "      <td>a</td>\n",
       "      <td>a</td>\n",
       "      <td>b</td>\n",
       "      <td>b</td>\n",
       "    </tr>\n",
       "    <tr>\n",
       "      <th>Age</th>\n",
       "      <td>30.83</td>\n",
       "      <td>58.67</td>\n",
       "      <td>24.50</td>\n",
       "      <td>27.83</td>\n",
       "      <td>20.17</td>\n",
       "    </tr>\n",
       "    <tr>\n",
       "      <th>Debt</th>\n",
       "      <td>0</td>\n",
       "      <td>4.46</td>\n",
       "      <td>0.5</td>\n",
       "      <td>1.54</td>\n",
       "      <td>5.625</td>\n",
       "    </tr>\n",
       "    <tr>\n",
       "      <th>Married</th>\n",
       "      <td>u</td>\n",
       "      <td>u</td>\n",
       "      <td>u</td>\n",
       "      <td>u</td>\n",
       "      <td>u</td>\n",
       "    </tr>\n",
       "    <tr>\n",
       "      <th>BankCustomer</th>\n",
       "      <td>g</td>\n",
       "      <td>g</td>\n",
       "      <td>g</td>\n",
       "      <td>g</td>\n",
       "      <td>g</td>\n",
       "    </tr>\n",
       "    <tr>\n",
       "      <th>EducationLevel</th>\n",
       "      <td>w</td>\n",
       "      <td>q</td>\n",
       "      <td>q</td>\n",
       "      <td>w</td>\n",
       "      <td>w</td>\n",
       "    </tr>\n",
       "    <tr>\n",
       "      <th>Ethnicity</th>\n",
       "      <td>v</td>\n",
       "      <td>h</td>\n",
       "      <td>h</td>\n",
       "      <td>v</td>\n",
       "      <td>v</td>\n",
       "    </tr>\n",
       "    <tr>\n",
       "      <th>YearsEmployed</th>\n",
       "      <td>1.25</td>\n",
       "      <td>3.04</td>\n",
       "      <td>1.5</td>\n",
       "      <td>3.75</td>\n",
       "      <td>1.71</td>\n",
       "    </tr>\n",
       "    <tr>\n",
       "      <th>PriorDefault</th>\n",
       "      <td>t</td>\n",
       "      <td>t</td>\n",
       "      <td>t</td>\n",
       "      <td>t</td>\n",
       "      <td>t</td>\n",
       "    </tr>\n",
       "    <tr>\n",
       "      <th>Employed</th>\n",
       "      <td>t</td>\n",
       "      <td>t</td>\n",
       "      <td>f</td>\n",
       "      <td>t</td>\n",
       "      <td>f</td>\n",
       "    </tr>\n",
       "    <tr>\n",
       "      <th>CreditScore</th>\n",
       "      <td>1</td>\n",
       "      <td>6</td>\n",
       "      <td>0</td>\n",
       "      <td>5</td>\n",
       "      <td>0</td>\n",
       "    </tr>\n",
       "    <tr>\n",
       "      <th>DriversLicense</th>\n",
       "      <td>f</td>\n",
       "      <td>f</td>\n",
       "      <td>f</td>\n",
       "      <td>t</td>\n",
       "      <td>f</td>\n",
       "    </tr>\n",
       "    <tr>\n",
       "      <th>Citizen</th>\n",
       "      <td>g</td>\n",
       "      <td>g</td>\n",
       "      <td>g</td>\n",
       "      <td>g</td>\n",
       "      <td>s</td>\n",
       "    </tr>\n",
       "    <tr>\n",
       "      <th>ZipCode</th>\n",
       "      <td>00202</td>\n",
       "      <td>00043</td>\n",
       "      <td>00280</td>\n",
       "      <td>00100</td>\n",
       "      <td>00120</td>\n",
       "    </tr>\n",
       "    <tr>\n",
       "      <th>Income</th>\n",
       "      <td>0</td>\n",
       "      <td>560</td>\n",
       "      <td>824</td>\n",
       "      <td>3</td>\n",
       "      <td>0</td>\n",
       "    </tr>\n",
       "    <tr>\n",
       "      <th>ApprovalStatus</th>\n",
       "      <td>+</td>\n",
       "      <td>+</td>\n",
       "      <td>+</td>\n",
       "      <td>+</td>\n",
       "      <td>+</td>\n",
       "    </tr>\n",
       "  </tbody>\n",
       "</table>\n",
       "</div>"
      ],
      "text/plain": [
       "                    0      1      2      3      4\n",
       "Gender              b      a      a      b      b\n",
       "Age             30.83  58.67  24.50  27.83  20.17\n",
       "Debt                0   4.46    0.5   1.54  5.625\n",
       "Married             u      u      u      u      u\n",
       "BankCustomer        g      g      g      g      g\n",
       "EducationLevel      w      q      q      w      w\n",
       "Ethnicity           v      h      h      v      v\n",
       "YearsEmployed    1.25   3.04    1.5   3.75   1.71\n",
       "PriorDefault        t      t      t      t      t\n",
       "Employed            t      t      f      t      f\n",
       "CreditScore         1      6      0      5      0\n",
       "DriversLicense      f      f      f      t      f\n",
       "Citizen             g      g      g      g      s\n",
       "ZipCode         00202  00043  00280  00100  00120\n",
       "Income              0    560    824      3      0\n",
       "ApprovalStatus      +      +      +      +      +"
      ]
     },
     "execution_count": 59,
     "metadata": {},
     "output_type": "execute_result"
    }
   ],
   "source": [
    "def load_credit_card_data(credit_data_path=CREDIT_DATA_PATH):\n",
    "    csv_path=os.path.join(credit_data_path, \"crx.data\")\n",
    "    pd.set_option('display.max_columns', None)\n",
    "    col_names = [\"Gender\",\"Age\",\"Debt\",\"Married\",\"BankCustomer\",\"EducationLevel\",\"Ethnicity\",\n",
    "                 \"YearsEmployed\",\"PriorDefault\",\"Employed\",\"CreditScore\", \"DriversLicense\", \"Citizen\", \n",
    "                 \"ZipCode\", \"Income\" , \"ApprovalStatus\"]\n",
    "    return pd.read_csv(csv_path, header=None, names=col_names)\n",
    "\n",
    "data = load_credit_card_data()\n",
    "dataset = data.copy()\n",
    "dataset.head().T"
   ]
  },
  {
   "cell_type": "code",
   "execution_count": 60,
   "metadata": {},
   "outputs": [
    {
     "name": "stdout",
     "output_type": "stream",
     "text": [
      "<class 'pandas.core.frame.DataFrame'>\n",
      "RangeIndex: 690 entries, 0 to 689\n",
      "Data columns (total 16 columns):\n",
      "Gender            690 non-null object\n",
      "Age               690 non-null object\n",
      "Debt              690 non-null float64\n",
      "Married           690 non-null object\n",
      "BankCustomer      690 non-null object\n",
      "EducationLevel    690 non-null object\n",
      "Ethnicity         690 non-null object\n",
      "YearsEmployed     690 non-null float64\n",
      "PriorDefault      690 non-null object\n",
      "Employed          690 non-null object\n",
      "CreditScore       690 non-null int64\n",
      "DriversLicense    690 non-null object\n",
      "Citizen           690 non-null object\n",
      "ZipCode           690 non-null object\n",
      "Income            690 non-null int64\n",
      "ApprovalStatus    690 non-null object\n",
      "dtypes: float64(2), int64(2), object(12)\n",
      "memory usage: 86.3+ KB\n"
     ]
    }
   ],
   "source": [
    "dataset.info()"
   ]
  },
  {
   "cell_type": "code",
   "execution_count": 61,
   "metadata": {},
   "outputs": [
    {
     "data": {
      "text/plain": [
       "67      1\n",
       "19      1\n",
       "13      1\n",
       "40      1\n",
       "23      1\n",
       "20      2\n",
       "17      2\n",
       "16      3\n",
       "15      4\n",
       "10      8\n",
       "12      8\n",
       "14      8\n",
       "8      10\n",
       "9      10\n",
       "4      15\n",
       "7      16\n",
       "5      18\n",
       "11     19\n",
       "6      23\n",
       "3      28\n",
       "2      45\n",
       "1      71\n",
       "0     395\n",
       "Name: CreditScore, dtype: int64"
      ]
     },
     "execution_count": 61,
     "metadata": {},
     "output_type": "execute_result"
    }
   ],
   "source": [
    "dataset['CreditScore'].value_counts().sort_values(ascending=True)"
   ]
  },
  {
   "cell_type": "code",
   "execution_count": 62,
   "metadata": {},
   "outputs": [
    {
     "data": {
      "text/plain": [
       "Gender            0\n",
       "Age               0\n",
       "Debt              0\n",
       "Married           0\n",
       "BankCustomer      0\n",
       "EducationLevel    0\n",
       "Ethnicity         0\n",
       "YearsEmployed     0\n",
       "PriorDefault      0\n",
       "Employed          0\n",
       "CreditScore       0\n",
       "DriversLicense    0\n",
       "Citizen           0\n",
       "ZipCode           0\n",
       "Income            0\n",
       "ApprovalStatus    0\n",
       "dtype: int64"
      ]
     },
     "execution_count": 62,
     "metadata": {},
     "output_type": "execute_result"
    }
   ],
   "source": [
    "#replace some values so it makes sense\n",
    "dataset = dataset.replace(\"?\", np.nan).replace('+', 1).replace('-', 0)\n",
    "\n",
    "#drop all row which have at least one null value\n",
    "dataset.dropna(inplace=True)\n",
    "dataset.isna().sum()"
   ]
  },
  {
   "cell_type": "code",
   "execution_count": 63,
   "metadata": {},
   "outputs": [
    {
     "name": "stdout",
     "output_type": "stream",
     "text": [
      "<class 'pandas.core.frame.DataFrame'>\n",
      "Int64Index: 653 entries, 0 to 689\n",
      "Data columns (total 16 columns):\n",
      "Gender            653 non-null object\n",
      "Age               653 non-null float64\n",
      "Debt              653 non-null float64\n",
      "Married           653 non-null object\n",
      "BankCustomer      653 non-null object\n",
      "EducationLevel    653 non-null object\n",
      "Ethnicity         653 non-null object\n",
      "YearsEmployed     653 non-null float64\n",
      "PriorDefault      653 non-null object\n",
      "Employed          653 non-null object\n",
      "CreditScore       653 non-null int64\n",
      "DriversLicense    653 non-null object\n",
      "Citizen           653 non-null object\n",
      "ZipCode           653 non-null object\n",
      "Income            653 non-null int64\n",
      "ApprovalStatus    653 non-null int64\n",
      "dtypes: float64(3), int64(3), object(10)\n",
      "memory usage: 86.7+ KB\n"
     ]
    }
   ],
   "source": [
    "dataset['Age'] = dataset['Age'].astype('float')\n",
    "dataset.info()"
   ]
  },
  {
   "cell_type": "code",
   "execution_count": 64,
   "metadata": {},
   "outputs": [
    {
     "data": {
      "text/plain": [
       "0    357\n",
       "1    296\n",
       "Name: ApprovalStatus, dtype: int64"
      ]
     },
     "execution_count": 64,
     "metadata": {},
     "output_type": "execute_result"
    }
   ],
   "source": [
    "dataset['ApprovalStatus'].value_counts()"
   ]
  },
  {
   "cell_type": "code",
   "execution_count": 65,
   "metadata": {},
   "outputs": [
    {
     "data": {
      "text/plain": [
       "<matplotlib.axes._subplots.AxesSubplot at 0x1d2ffb20320>"
      ]
     },
     "execution_count": 65,
     "metadata": {},
     "output_type": "execute_result"
    },
    {
     "data": {
      "image/png": "[encoded data removed]",
      "text/plain": [
       "<Figure size 432x288 with 1 Axes>"
      ]
     },
     "metadata": {
      "needs_background": "light"
     },
     "output_type": "display_data"
    }
   ],
   "source": [
    "CountStatus = pd.value_counts(dataset['ApprovalStatus'].values, sort=False)\n",
    "plt.ylabel('Number of applications')\n",
    "plt.title('Approval status')\n",
    "CountStatus.plot.bar()"
   ]
  },
  {
   "cell_type": "code",
   "execution_count": 66,
   "metadata": {},
   "outputs": [
    {
     "data": {
      "text/plain": [
       "Gender              int32\n",
       "Age               float64\n",
       "Debt              float64\n",
       "Married             int32\n",
       "BankCustomer        int32\n",
       "EducationLevel      int32\n",
       "Ethnicity           int32\n",
       "YearsEmployed     float64\n",
       "PriorDefault        int32\n",
       "Employed            int32\n",
       "CreditScore         int64\n",
       "DriversLicense      int32\n",
       "Citizen             int32\n",
       "ZipCode             int32\n",
       "Income              int64\n",
       "ApprovalStatus      int64\n",
       "dtype: object"
      ]
     },
     "execution_count": 66,
     "metadata": {},
     "output_type": "execute_result"
    }
   ],
   "source": [
    "# convert dataset_dropNa cat attributes to numeric\n",
    "le = LabelEncoder()\n",
    "\n",
    "for col in dataset:\n",
    "    if dataset[col].dtypes == 'object':\n",
    "        dataset[col]=le.fit_transform(dataset[col])\n",
    "dataset.dtypes"
   ]
  },
  {
   "cell_type": "code",
   "execution_count": 67,
   "metadata": {},
   "outputs": [
    {
     "name": "stdout",
     "output_type": "stream",
     "text": [
      "<class 'pandas.core.frame.DataFrame'>\n",
      "Int64Index: 653 entries, 0 to 689\n",
      "Data columns (total 16 columns):\n",
      "Gender            653 non-null int32\n",
      "Age               653 non-null float64\n",
      "Debt              653 non-null float64\n",
      "Married           653 non-null int32\n",
      "BankCustomer      653 non-null int32\n",
      "EducationLevel    653 non-null int32\n",
      "Ethnicity         653 non-null int32\n",
      "YearsEmployed     653 non-null float64\n",
      "PriorDefault      653 non-null int32\n",
      "Employed          653 non-null int32\n",
      "CreditScore       653 non-null int64\n",
      "DriversLicense    653 non-null int32\n",
      "Citizen           653 non-null int32\n",
      "ZipCode           653 non-null int32\n",
      "Income            653 non-null int64\n",
      "ApprovalStatus    653 non-null int64\n",
      "dtypes: float64(3), int32(10), int64(3)\n",
      "memory usage: 61.2 KB\n"
     ]
    }
   ],
   "source": [
    "dataset.info()"
   ]
  },
  {
   "cell_type": "code",
   "execution_count": 68,
   "metadata": {},
   "outputs": [
    {
     "data": {
      "text/plain": [
       "array([[<matplotlib.axes._subplots.AxesSubplot object at 0x000001D28184E898>,\n",
       "        <matplotlib.axes._subplots.AxesSubplot object at 0x000001D283001C88>,\n",
       "        <matplotlib.axes._subplots.AxesSubplot object at 0x000001D2830B6898>,\n",
       "        <matplotlib.axes._subplots.AxesSubplot object at 0x000001D28301FE48>],\n",
       "       [<matplotlib.axes._subplots.AxesSubplot object at 0x000001D282E4D470>,\n",
       "        <matplotlib.axes._subplots.AxesSubplot object at 0x000001D28340C898>,\n",
       "        <matplotlib.axes._subplots.AxesSubplot object at 0x000001D2812BE710>,\n",
       "        <matplotlib.axes._subplots.AxesSubplot object at 0x000001D283A62E48>],\n",
       "       [<matplotlib.axes._subplots.AxesSubplot object at 0x000001D283DF0048>,\n",
       "        <matplotlib.axes._subplots.AxesSubplot object at 0x000001D28388E438>,\n",
       "        <matplotlib.axes._subplots.AxesSubplot object at 0x000001D282F31860>,\n",
       "        <matplotlib.axes._subplots.AxesSubplot object at 0x000001D283361F60>],\n",
       "       [<matplotlib.axes._subplots.AxesSubplot object at 0x000001D283DF9F60>,\n",
       "        <matplotlib.axes._subplots.AxesSubplot object at 0x000001D283289390>,\n",
       "        <matplotlib.axes._subplots.AxesSubplot object at 0x000001D283372D30>,\n",
       "        <matplotlib.axes._subplots.AxesSubplot object at 0x000001D283AF1860>]],\n",
       "      dtype=object)"
      ]
     },
     "execution_count": 68,
     "metadata": {},
     "output_type": "execute_result"
    },
    {
     "data": {
      "image/png": "[encoded data removed]",
      "text/plain": [
       "<Figure size 1440x1080 with 16 Axes>"
      ]
     },
     "metadata": {
      "needs_background": "light"
     },
     "output_type": "display_data"
    }
   ],
   "source": [
    "dataset.hist(bins=20, figsize=(20,15))"
   ]
  },
  {
   "cell_type": "code",
   "execution_count": 69,
   "metadata": {},
   "outputs": [
    {
     "data": {
      "text/html": [
       "<div>\n",
       "<style scoped>\n",
       "    .dataframe tbody tr th:only-of-type {\n",
       "        vertical-align: middle;\n",
       "    }\n",
       "\n",
       "    .dataframe tbody tr th {\n",
       "        vertical-align: top;\n",
       "    }\n",
       "\n",
       "    .dataframe thead th {\n",
       "        text-align: right;\n",
       "    }\n",
       "</style>\n",
       "<table border=\"1\" class=\"dataframe\">\n",
       "  <thead>\n",
       "    <tr style=\"text-align: right;\">\n",
       "      <th></th>\n",
       "      <th>Gender</th>\n",
       "      <th>Age</th>\n",
       "      <th>Debt</th>\n",
       "      <th>Married</th>\n",
       "      <th>BankCustomer</th>\n",
       "      <th>EducationLevel</th>\n",
       "      <th>Ethnicity</th>\n",
       "      <th>YearsEmployed</th>\n",
       "      <th>PriorDefault</th>\n",
       "      <th>Employed</th>\n",
       "      <th>CreditScore</th>\n",
       "      <th>DriversLicense</th>\n",
       "      <th>Citizen</th>\n",
       "      <th>ZipCode</th>\n",
       "      <th>Income</th>\n",
       "      <th>ApprovalStatus</th>\n",
       "    </tr>\n",
       "  </thead>\n",
       "  <tbody>\n",
       "    <tr>\n",
       "      <th>Gender</th>\n",
       "      <td>1.000000</td>\n",
       "      <td>0.042177</td>\n",
       "      <td>-0.034906</td>\n",
       "      <td>0.066742</td>\n",
       "      <td>0.063122</td>\n",
       "      <td>-0.011568</td>\n",
       "      <td>0.057212</td>\n",
       "      <td>0.084899</td>\n",
       "      <td>-0.023251</td>\n",
       "      <td>-0.065192</td>\n",
       "      <td>-0.016683</td>\n",
       "      <td>0.052315</td>\n",
       "      <td>0.081948</td>\n",
       "      <td>0.109199</td>\n",
       "      <td>0.013099</td>\n",
       "      <td>-0.019817</td>\n",
       "    </tr>\n",
       "    <tr>\n",
       "      <th>Age</th>\n",
       "      <td>0.042177</td>\n",
       "      <td>1.000000</td>\n",
       "      <td>0.217681</td>\n",
       "      <td>-0.091395</td>\n",
       "      <td>-0.105122</td>\n",
       "      <td>0.023282</td>\n",
       "      <td>-0.189454</td>\n",
       "      <td>0.417647</td>\n",
       "      <td>0.218637</td>\n",
       "      <td>0.103633</td>\n",
       "      <td>0.198153</td>\n",
       "      <td>0.058133</td>\n",
       "      <td>-0.021586</td>\n",
       "      <td>-0.090538</td>\n",
       "      <td>0.029078</td>\n",
       "      <td>0.180252</td>\n",
       "    </tr>\n",
       "    <tr>\n",
       "      <th>Debt</th>\n",
       "      <td>-0.034906</td>\n",
       "      <td>0.217681</td>\n",
       "      <td>1.000000</td>\n",
       "      <td>-0.102243</td>\n",
       "      <td>-0.089745</td>\n",
       "      <td>0.009221</td>\n",
       "      <td>-0.030666</td>\n",
       "      <td>0.300600</td>\n",
       "      <td>0.236751</td>\n",
       "      <td>0.166092</td>\n",
       "      <td>0.269834</td>\n",
       "      <td>-0.006083</td>\n",
       "      <td>-0.105181</td>\n",
       "      <td>-0.266549</td>\n",
       "      <td>0.119754</td>\n",
       "      <td>0.207086</td>\n",
       "    </tr>\n",
       "    <tr>\n",
       "      <th>Married</th>\n",
       "      <td>0.066742</td>\n",
       "      <td>-0.091395</td>\n",
       "      <td>-0.102243</td>\n",
       "      <td>1.000000</td>\n",
       "      <td>0.981080</td>\n",
       "      <td>-0.045024</td>\n",
       "      <td>-0.021015</td>\n",
       "      <td>-0.089650</td>\n",
       "      <td>-0.116015</td>\n",
       "      <td>-0.158118</td>\n",
       "      <td>-0.104061</td>\n",
       "      <td>-0.009850</td>\n",
       "      <td>-0.037934</td>\n",
       "      <td>-0.001085</td>\n",
       "      <td>-0.118505</td>\n",
       "      <td>-0.179700</td>\n",
       "    </tr>\n",
       "    <tr>\n",
       "      <th>BankCustomer</th>\n",
       "      <td>0.063122</td>\n",
       "      <td>-0.105122</td>\n",
       "      <td>-0.089745</td>\n",
       "      <td>0.981080</td>\n",
       "      <td>1.000000</td>\n",
       "      <td>-0.051335</td>\n",
       "      <td>-0.026003</td>\n",
       "      <td>-0.081862</td>\n",
       "      <td>-0.129090</td>\n",
       "      <td>-0.169691</td>\n",
       "      <td>-0.110822</td>\n",
       "      <td>0.001747</td>\n",
       "      <td>-0.011931</td>\n",
       "      <td>0.013922</td>\n",
       "      <td>-0.018528</td>\n",
       "      <td>-0.169976</td>\n",
       "    </tr>\n",
       "    <tr>\n",
       "      <th>EducationLevel</th>\n",
       "      <td>-0.011568</td>\n",
       "      <td>0.023282</td>\n",
       "      <td>0.009221</td>\n",
       "      <td>-0.045024</td>\n",
       "      <td>-0.051335</td>\n",
       "      <td>1.000000</td>\n",
       "      <td>-0.000935</td>\n",
       "      <td>0.032704</td>\n",
       "      <td>0.105197</td>\n",
       "      <td>0.112155</td>\n",
       "      <td>-0.002706</td>\n",
       "      <td>0.069720</td>\n",
       "      <td>0.017234</td>\n",
       "      <td>0.107930</td>\n",
       "      <td>-0.006700</td>\n",
       "      <td>0.123314</td>\n",
       "    </tr>\n",
       "    <tr>\n",
       "      <th>Ethnicity</th>\n",
       "      <td>0.057212</td>\n",
       "      <td>-0.189454</td>\n",
       "      <td>-0.030666</td>\n",
       "      <td>-0.021015</td>\n",
       "      <td>-0.026003</td>\n",
       "      <td>-0.000935</td>\n",
       "      <td>1.000000</td>\n",
       "      <td>-0.094978</td>\n",
       "      <td>-0.034977</td>\n",
       "      <td>-0.001452</td>\n",
       "      <td>-0.037329</td>\n",
       "      <td>-0.004235</td>\n",
       "      <td>0.042494</td>\n",
       "      <td>-0.019605</td>\n",
       "      <td>-0.022527</td>\n",
       "      <td>-0.011023</td>\n",
       "    </tr>\n",
       "    <tr>\n",
       "      <th>YearsEmployed</th>\n",
       "      <td>0.084899</td>\n",
       "      <td>0.417647</td>\n",
       "      <td>0.300600</td>\n",
       "      <td>-0.089650</td>\n",
       "      <td>-0.081862</td>\n",
       "      <td>0.032704</td>\n",
       "      <td>-0.094978</td>\n",
       "      <td>1.000000</td>\n",
       "      <td>0.336148</td>\n",
       "      <td>0.228035</td>\n",
       "      <td>0.327325</td>\n",
       "      <td>0.139317</td>\n",
       "      <td>-0.001762</td>\n",
       "      <td>-0.093188</td>\n",
       "      <td>0.052159</td>\n",
       "      <td>0.332728</td>\n",
       "    </tr>\n",
       "    <tr>\n",
       "      <th>PriorDefault</th>\n",
       "      <td>-0.023251</td>\n",
       "      <td>0.218637</td>\n",
       "      <td>0.236751</td>\n",
       "      <td>-0.116015</td>\n",
       "      <td>-0.129090</td>\n",
       "      <td>0.105197</td>\n",
       "      <td>-0.034977</td>\n",
       "      <td>0.336148</td>\n",
       "      <td>1.000000</td>\n",
       "      <td>0.430586</td>\n",
       "      <td>0.378264</td>\n",
       "      <td>0.089864</td>\n",
       "      <td>-0.110474</td>\n",
       "      <td>-0.064796</td>\n",
       "      <td>0.084427</td>\n",
       "      <td>0.738829</td>\n",
       "    </tr>\n",
       "    <tr>\n",
       "      <th>Employed</th>\n",
       "      <td>-0.065192</td>\n",
       "      <td>0.103633</td>\n",
       "      <td>0.166092</td>\n",
       "      <td>-0.158118</td>\n",
       "      <td>-0.169691</td>\n",
       "      <td>0.112155</td>\n",
       "      <td>-0.001452</td>\n",
       "      <td>0.228035</td>\n",
       "      <td>0.430586</td>\n",
       "      <td>1.000000</td>\n",
       "      <td>0.569176</td>\n",
       "      <td>0.020223</td>\n",
       "      <td>-0.233452</td>\n",
       "      <td>-0.070939</td>\n",
       "      <td>0.068189</td>\n",
       "      <td>0.451866</td>\n",
       "    </tr>\n",
       "    <tr>\n",
       "      <th>CreditScore</th>\n",
       "      <td>-0.016683</td>\n",
       "      <td>0.198153</td>\n",
       "      <td>0.269834</td>\n",
       "      <td>-0.104061</td>\n",
       "      <td>-0.110822</td>\n",
       "      <td>-0.002706</td>\n",
       "      <td>-0.037329</td>\n",
       "      <td>0.327325</td>\n",
       "      <td>0.378264</td>\n",
       "      <td>0.569176</td>\n",
       "      <td>1.000000</td>\n",
       "      <td>0.005757</td>\n",
       "      <td>-0.134091</td>\n",
       "      <td>-0.131468</td>\n",
       "      <td>0.058408</td>\n",
       "      <td>0.406052</td>\n",
       "    </tr>\n",
       "    <tr>\n",
       "      <th>DriversLicense</th>\n",
       "      <td>0.052315</td>\n",
       "      <td>0.058133</td>\n",
       "      <td>-0.006083</td>\n",
       "      <td>-0.009850</td>\n",
       "      <td>0.001747</td>\n",
       "      <td>0.069720</td>\n",
       "      <td>-0.004235</td>\n",
       "      <td>0.139317</td>\n",
       "      <td>0.089864</td>\n",
       "      <td>0.020223</td>\n",
       "      <td>0.005757</td>\n",
       "      <td>1.000000</td>\n",
       "      <td>0.017105</td>\n",
       "      <td>0.160364</td>\n",
       "      <td>0.027534</td>\n",
       "      <td>0.050011</td>\n",
       "    </tr>\n",
       "    <tr>\n",
       "      <th>Citizen</th>\n",
       "      <td>0.081948</td>\n",
       "      <td>-0.021586</td>\n",
       "      <td>-0.105181</td>\n",
       "      <td>-0.037934</td>\n",
       "      <td>-0.011931</td>\n",
       "      <td>0.017234</td>\n",
       "      <td>0.042494</td>\n",
       "      <td>-0.001762</td>\n",
       "      <td>-0.110474</td>\n",
       "      <td>-0.233452</td>\n",
       "      <td>-0.134091</td>\n",
       "      <td>0.017105</td>\n",
       "      <td>1.000000</td>\n",
       "      <td>0.064227</td>\n",
       "      <td>-0.005020</td>\n",
       "      <td>-0.100785</td>\n",
       "    </tr>\n",
       "    <tr>\n",
       "      <th>ZipCode</th>\n",
       "      <td>0.109199</td>\n",
       "      <td>-0.090538</td>\n",
       "      <td>-0.266549</td>\n",
       "      <td>-0.001085</td>\n",
       "      <td>0.013922</td>\n",
       "      <td>0.107930</td>\n",
       "      <td>-0.019605</td>\n",
       "      <td>-0.093188</td>\n",
       "      <td>-0.064796</td>\n",
       "      <td>-0.070939</td>\n",
       "      <td>-0.131468</td>\n",
       "      <td>0.160364</td>\n",
       "      <td>0.064227</td>\n",
       "      <td>1.000000</td>\n",
       "      <td>0.083725</td>\n",
       "      <td>-0.092483</td>\n",
       "    </tr>\n",
       "    <tr>\n",
       "      <th>Income</th>\n",
       "      <td>0.013099</td>\n",
       "      <td>0.029078</td>\n",
       "      <td>0.119754</td>\n",
       "      <td>-0.118505</td>\n",
       "      <td>-0.018528</td>\n",
       "      <td>-0.006700</td>\n",
       "      <td>-0.022527</td>\n",
       "      <td>0.052159</td>\n",
       "      <td>0.084427</td>\n",
       "      <td>0.068189</td>\n",
       "      <td>0.058408</td>\n",
       "      <td>0.027534</td>\n",
       "      <td>-0.005020</td>\n",
       "      <td>0.083725</td>\n",
       "      <td>1.000000</td>\n",
       "      <td>0.172766</td>\n",
       "    </tr>\n",
       "    <tr>\n",
       "      <th>ApprovalStatus</th>\n",
       "      <td>-0.019817</td>\n",
       "      <td>0.180252</td>\n",
       "      <td>0.207086</td>\n",
       "      <td>-0.179700</td>\n",
       "      <td>-0.169976</td>\n",
       "      <td>0.123314</td>\n",
       "      <td>-0.011023</td>\n",
       "      <td>0.332728</td>\n",
       "      <td>0.738829</td>\n",
       "      <td>0.451866</td>\n",
       "      <td>0.406052</td>\n",
       "      <td>0.050011</td>\n",
       "      <td>-0.100785</td>\n",
       "      <td>-0.092483</td>\n",
       "      <td>0.172766</td>\n",
       "      <td>1.000000</td>\n",
       "    </tr>\n",
       "  </tbody>\n",
       "</table>\n",
       "</div>"
      ],
      "text/plain": [
       "                  Gender       Age      Debt   Married  BankCustomer  \\\n",
       "Gender          1.000000  0.042177 -0.034906  0.066742      0.063122   \n",
       "Age             0.042177  1.000000  0.217681 -0.091395     -0.105122   \n",
       "Debt           -0.034906  0.217681  1.000000 -0.102243     -0.089745   \n",
       "Married         0.066742 -0.091395 -0.102243  1.000000      0.981080   \n",
       "BankCustomer    0.063122 -0.105122 -0.089745  0.981080      1.000000   \n",
       "EducationLevel -0.011568  0.023282  0.009221 -0.045024     -0.051335   \n",
       "Ethnicity       0.057212 -0.189454 -0.030666 -0.021015     -0.026003   \n",
       "YearsEmployed   0.084899  0.417647  0.300600 -0.089650     -0.081862   \n",
       "PriorDefault   -0.023251  0.218637  0.236751 -0.116015     -0.129090   \n",
       "Employed       -0.065192  0.103633  0.166092 -0.158118     -0.169691   \n",
       "CreditScore    -0.016683  0.198153  0.269834 -0.104061     -0.110822   \n",
       "DriversLicense  0.052315  0.058133 -0.006083 -0.009850      0.001747   \n",
       "Citizen         0.081948 -0.021586 -0.105181 -0.037934     -0.011931   \n",
       "ZipCode         0.109199 -0.090538 -0.266549 -0.001085      0.013922   \n",
       "Income          0.013099  0.029078  0.119754 -0.118505     -0.018528   \n",
       "ApprovalStatus -0.019817  0.180252  0.207086 -0.179700     -0.169976   \n",
       "\n",
       "                EducationLevel  Ethnicity  YearsEmployed  PriorDefault  \\\n",
       "Gender               -0.011568   0.057212       0.084899     -0.023251   \n",
       "Age                   0.023282  -0.189454       0.417647      0.218637   \n",
       "Debt                  0.009221  -0.030666       0.300600      0.236751   \n",
       "Married              -0.045024  -0.021015      -0.089650     -0.116015   \n",
       "BankCustomer         -0.051335  -0.026003      -0.081862     -0.129090   \n",
       "EducationLevel        1.000000  -0.000935       0.032704      0.105197   \n",
       "Ethnicity            -0.000935   1.000000      -0.094978     -0.034977   \n",
       "YearsEmployed         0.032704  -0.094978       1.000000      0.336148   \n",
       "PriorDefault          0.105197  -0.034977       0.336148      1.000000   \n",
       "Employed              0.112155  -0.001452       0.228035      0.430586   \n",
       "CreditScore          -0.002706  -0.037329       0.327325      0.378264   \n",
       "DriversLicense        0.069720  -0.004235       0.139317      0.089864   \n",
       "Citizen               0.017234   0.042494      -0.001762     -0.110474   \n",
       "ZipCode               0.107930  -0.019605      -0.093188     -0.064796   \n",
       "Income               -0.006700  -0.022527       0.052159      0.084427   \n",
       "ApprovalStatus        0.123314  -0.011023       0.332728      0.738829   \n",
       "\n",
       "                Employed  CreditScore  DriversLicense   Citizen   ZipCode  \\\n",
       "Gender         -0.065192    -0.016683        0.052315  0.081948  0.109199   \n",
       "Age             0.103633     0.198153        0.058133 -0.021586 -0.090538   \n",
       "Debt            0.166092     0.269834       -0.006083 -0.105181 -0.266549   \n",
       "Married        -0.158118    -0.104061       -0.009850 -0.037934 -0.001085   \n",
       "BankCustomer   -0.169691    -0.110822        0.001747 -0.011931  0.013922   \n",
       "EducationLevel  0.112155    -0.002706        0.069720  0.017234  0.107930   \n",
       "Ethnicity      -0.001452    -0.037329       -0.004235  0.042494 -0.019605   \n",
       "YearsEmployed   0.228035     0.327325        0.139317 -0.001762 -0.093188   \n",
       "PriorDefault    0.430586     0.378264        0.089864 -0.110474 -0.064796   \n",
       "Employed        1.000000     0.569176        0.020223 -0.233452 -0.070939   \n",
       "CreditScore     0.569176     1.000000        0.005757 -0.134091 -0.131468   \n",
       "DriversLicense  0.020223     0.005757        1.000000  0.017105  0.160364   \n",
       "Citizen        -0.233452    -0.134091        0.017105  1.000000  0.064227   \n",
       "ZipCode        -0.070939    -0.131468        0.160364  0.064227  1.000000   \n",
       "Income          0.068189     0.058408        0.027534 -0.005020  0.083725   \n",
       "ApprovalStatus  0.451866     0.406052        0.050011 -0.100785 -0.092483   \n",
       "\n",
       "                  Income  ApprovalStatus  \n",
       "Gender          0.013099       -0.019817  \n",
       "Age             0.029078        0.180252  \n",
       "Debt            0.119754        0.207086  \n",
       "Married        -0.118505       -0.179700  \n",
       "BankCustomer   -0.018528       -0.169976  \n",
       "EducationLevel -0.006700        0.123314  \n",
       "Ethnicity      -0.022527       -0.011023  \n",
       "YearsEmployed   0.052159        0.332728  \n",
       "PriorDefault    0.084427        0.738829  \n",
       "Employed        0.068189        0.451866  \n",
       "CreditScore     0.058408        0.406052  \n",
       "DriversLicense  0.027534        0.050011  \n",
       "Citizen        -0.005020       -0.100785  \n",
       "ZipCode         0.083725       -0.092483  \n",
       "Income          1.000000        0.172766  \n",
       "ApprovalStatus  0.172766        1.000000  "
      ]
     },
     "execution_count": 69,
     "metadata": {},
     "output_type": "execute_result"
    }
   ],
   "source": [
    "corr = dataset.corr()\n",
    "corr"
   ]
  },
  {
   "cell_type": "code",
   "execution_count": 70,
   "metadata": {},
   "outputs": [
    {
     "data": {
      "image/png": "[encoded data removed]",
      "text/plain": [
       "<Figure size 432x288 with 2 Axes>"
      ]
     },
     "metadata": {
      "needs_background": "light"
     },
     "output_type": "display_data"
    }
   ],
   "source": [
    "def make_corr_heatmap(data, corr):\n",
    "    sns.heatmap(corr, \n",
    "                xticklabels=corr.columns.values,\n",
    "                yticklabels=corr.columns.values)\n",
    "\n",
    "make_corr_heatmap(dataset, corr)"
   ]
  },
  {
   "cell_type": "code",
   "execution_count": 71,
   "metadata": {},
   "outputs": [
    {
     "data": {
      "text/plain": [
       "ApprovalStatus    1.000000\n",
       "PriorDefault      0.738829\n",
       "Employed          0.451866\n",
       "CreditScore       0.406052\n",
       "YearsEmployed     0.332728\n",
       "Debt              0.207086\n",
       "Age               0.180252\n",
       "Income            0.172766\n",
       "EducationLevel    0.123314\n",
       "DriversLicense    0.050011\n",
       "Ethnicity        -0.011023\n",
       "Gender           -0.019817\n",
       "ZipCode          -0.092483\n",
       "Citizen          -0.100785\n",
       "BankCustomer     -0.169976\n",
       "Married          -0.179700\n",
       "Name: ApprovalStatus, dtype: float64"
      ]
     },
     "execution_count": 71,
     "metadata": {},
     "output_type": "execute_result"
    }
   ],
   "source": [
    "corr['ApprovalStatus'].sort_values(ascending=False)"
   ]
  },
  {
   "cell_type": "code",
   "execution_count": 72,
   "metadata": {},
   "outputs": [],
   "source": [
    "dataset_dropColumns = dataset.drop(columns=['Ethnicity', 'Gender', 'ZipCode'])"
   ]
  },
  {
   "cell_type": "code",
   "execution_count": 73,
   "metadata": {},
   "outputs": [
    {
     "data": {
      "text/plain": [
       "array([[<matplotlib.axes._subplots.AxesSubplot object at 0x000001D283859BE0>,\n",
       "        <matplotlib.axes._subplots.AxesSubplot object at 0x000001D283952518>,\n",
       "        <matplotlib.axes._subplots.AxesSubplot object at 0x000001D282E69A90>,\n",
       "        <matplotlib.axes._subplots.AxesSubplot object at 0x000001D283919FD0>],\n",
       "       [<matplotlib.axes._subplots.AxesSubplot object at 0x000001D2830C3588>,\n",
       "        <matplotlib.axes._subplots.AxesSubplot object at 0x000001D2830ACB00>,\n",
       "        <matplotlib.axes._subplots.AxesSubplot object at 0x000001D283E620B8>,\n",
       "        <matplotlib.axes._subplots.AxesSubplot object at 0x000001D2835F6668>],\n",
       "       [<matplotlib.axes._subplots.AxesSubplot object at 0x000001D2835F66A0>,\n",
       "        <matplotlib.axes._subplots.AxesSubplot object at 0x000001D28324F160>,\n",
       "        <matplotlib.axes._subplots.AxesSubplot object at 0x000001D283A176D8>,\n",
       "        <matplotlib.axes._subplots.AxesSubplot object at 0x000001D283EB1C50>],\n",
       "       [<matplotlib.axes._subplots.AxesSubplot object at 0x000001D283D17400>,\n",
       "        <matplotlib.axes._subplots.AxesSubplot object at 0x000001D283D22780>,\n",
       "        <matplotlib.axes._subplots.AxesSubplot object at 0x000001D2831EDCF8>,\n",
       "        <matplotlib.axes._subplots.AxesSubplot object at 0x000001D282E395C0>]],\n",
       "      dtype=object)"
      ]
     },
     "execution_count": 73,
     "metadata": {},
     "output_type": "execute_result"
    },
    {
     "data": {
      "image/png": "[encoded data removed]",
      "text/plain": [
       "<Figure size 1440x1080 with 16 Axes>"
      ]
     },
     "metadata": {
      "needs_background": "light"
     },
     "output_type": "display_data"
    }
   ],
   "source": [
    "dataset_dropColumns.hist(bins=20, figsize=(20, 15))"
   ]
  },
  {
   "cell_type": "code",
   "execution_count": 74,
   "metadata": {},
   "outputs": [
    {
     "data": {
      "text/plain": [
       "1    499\n",
       "2    152\n",
       "0      2\n",
       "Name: Married, dtype: int64"
      ]
     },
     "execution_count": 74,
     "metadata": {},
     "output_type": "execute_result"
    }
   ],
   "source": [
    "dataset_dropColumns['Married'].value_counts()\n"
   ]
  },
  {
   "cell_type": "code",
   "execution_count": 75,
   "metadata": {},
   "outputs": [],
   "source": [
    "#dataset_Citizen_3_values = dataset_dropColumns[dataset_dropColumns['Citizen'] == 1]\n",
    "#dataset_Citizen_3_values"
   ]
  },
  {
   "cell_type": "code",
   "execution_count": 76,
   "metadata": {},
   "outputs": [],
   "source": [
    "#dataset_Married_3_values = dataset_dropColumns[dataset_dropColumns['Married'] == 0]\n",
    "#dataset_Married_3_values.head()"
   ]
  },
  {
   "cell_type": "code",
   "execution_count": 77,
   "metadata": {},
   "outputs": [
    {
     "data": {
      "text/plain": [
       "1    499\n",
       "2    152\n",
       "0      2\n",
       "Name: Married, dtype: int64"
      ]
     },
     "execution_count": 77,
     "metadata": {},
     "output_type": "execute_result"
    }
   ],
   "source": [
    "#dataset_dropColumns = dataset_dropColumns[dataset_dropColumns['Married'] != 0]\n",
    "#dataset_dropColumns = dataset_dropColumns[dataset_dropColumns['Citizen'] != 1]\n",
    "dataset_dropColumns['Married'].value_counts()"
   ]
  },
  {
   "cell_type": "code",
   "execution_count": 78,
   "metadata": {},
   "outputs": [
    {
     "data": {
      "text/plain": [
       "574"
      ]
     },
     "execution_count": 78,
     "metadata": {},
     "output_type": "execute_result"
    }
   ],
   "source": [
    "dataset_dropColumns[dataset_dropColumns['CreditScore']<8]['CreditScore'].value_counts().sum()"
   ]
  },
  {
   "cell_type": "code",
   "execution_count": 79,
   "metadata": {},
   "outputs": [
    {
     "data": {
      "text/plain": [
       "<matplotlib.axes._subplots.AxesSubplot at 0x1d28334e898>"
      ]
     },
     "execution_count": 79,
     "metadata": {},
     "output_type": "execute_result"
    },
    {
     "data": {
      "image/png": "[encoded data removed]",
      "text/plain": [
       "<Figure size 1440x360 with 1 Axes>"
      ]
     },
     "metadata": {
      "needs_background": "light"
     },
     "output_type": "display_data"
    }
   ],
   "source": [
    "dataset_dropColumns['CreditScore'].hist(bins=100, figsize=(20, 5))"
   ]
  },
  {
   "cell_type": "code",
   "execution_count": 80,
   "metadata": {},
   "outputs": [
    {
     "name": "stdout",
     "output_type": "stream",
     "text": [
      "<class 'pandas.core.frame.DataFrame'>\n",
      "Int64Index: 653 entries, 0 to 689\n",
      "Data columns (total 13 columns):\n",
      "Age               653 non-null float64\n",
      "Debt              653 non-null float64\n",
      "Married           653 non-null int32\n",
      "BankCustomer      653 non-null int32\n",
      "EducationLevel    653 non-null int32\n",
      "YearsEmployed     653 non-null float64\n",
      "PriorDefault      653 non-null int32\n",
      "Employed          653 non-null int32\n",
      "CreditScore       653 non-null int64\n",
      "DriversLicense    653 non-null int32\n",
      "Citizen           653 non-null int32\n",
      "Income            653 non-null int64\n",
      "ApprovalStatus    653 non-null int64\n",
      "dtypes: float64(3), int32(7), int64(3)\n",
      "memory usage: 53.6 KB\n"
     ]
    }
   ],
   "source": [
    "dataset_dropColumns.info()"
   ]
  },
  {
   "cell_type": "code",
   "execution_count": 81,
   "metadata": {},
   "outputs": [],
   "source": [
    "# one hot encoding 'Citizen', 'Married', 'BankCustomer'\n",
    "\n",
    "preprocess = make_column_transformer((OneHotEncoder(categories='auto'), ['Citizen', 'Married', 'BankCustomer']))"
   ]
  },
  {
   "cell_type": "code",
   "execution_count": 82,
   "metadata": {},
   "outputs": [],
   "source": [
    "dataset_dropColumns_nominal = preprocess.fit_transform(dataset_dropColumns)"
   ]
  },
  {
   "cell_type": "code",
   "execution_count": 83,
   "metadata": {},
   "outputs": [],
   "source": [
    "dataset_dropColumns_nominal\n",
    "data_nominal_1hot = pd.DataFrame(data=dataset_dropColumns_nominal[0:, 0:])"
   ]
  },
  {
   "cell_type": "code",
   "execution_count": 84,
   "metadata": {},
   "outputs": [],
   "source": [
    "dataset_dropColumns=dataset_dropColumns.drop(columns=['Citizen', 'Married', 'BankCustomer'])"
   ]
  },
  {
   "cell_type": "code",
   "execution_count": 85,
   "metadata": {},
   "outputs": [
    {
     "name": "stdout",
     "output_type": "stream",
     "text": [
      "<class 'pandas.core.frame.DataFrame'>\n",
      "Int64Index: 653 entries, 0 to 689\n",
      "Data columns (total 10 columns):\n",
      "Age               653 non-null float64\n",
      "Debt              653 non-null float64\n",
      "EducationLevel    653 non-null int32\n",
      "YearsEmployed     653 non-null float64\n",
      "PriorDefault      653 non-null int32\n",
      "Employed          653 non-null int32\n",
      "CreditScore       653 non-null int64\n",
      "DriversLicense    653 non-null int32\n",
      "Income            653 non-null int64\n",
      "ApprovalStatus    653 non-null int64\n",
      "dtypes: float64(3), int32(4), int64(3)\n",
      "memory usage: 45.9 KB\n"
     ]
    }
   ],
   "source": [
    "dataset_dropColumns.info()"
   ]
  },
  {
   "cell_type": "code",
   "execution_count": 86,
   "metadata": {},
   "outputs": [],
   "source": [
    "# dataset_1hot is a np array that has all data in it after one hot encoding\n",
    "dataset_1hot = np.concatenate((dataset_dropColumns_nominal,dataset_dropColumns.iloc[0:, 0:]),axis=1)"
   ]
  },
  {
   "cell_type": "code",
   "execution_count": 87,
   "metadata": {},
   "outputs": [
    {
     "data": {
      "text/plain": [
       "array([[  1.,   0.,   0., ...,   0.,   0.,   1.],\n",
       "       [  1.,   0.,   0., ...,   0., 560.,   1.],\n",
       "       [  1.,   0.,   0., ...,   0., 824.,   1.],\n",
       "       ...,\n",
       "       [  1.,   0.,   0., ...,   1.,   1.,   0.],\n",
       "       [  1.,   0.,   0., ...,   0., 750.,   0.],\n",
       "       [  1.,   0.,   0., ...,   1.,   0.,   0.]])"
      ]
     },
     "execution_count": 87,
     "metadata": {},
     "output_type": "execute_result"
    }
   ],
   "source": [
    "dataset_1hot"
   ]
  },
  {
   "cell_type": "code",
   "execution_count": 90,
   "metadata": {},
   "outputs": [],
   "source": [
    "#labels for not dropping the 2 strange values in \"bankcustomer\", \"Married\", \"Citizen\"\n",
    "labels = ['Citizen_1', 'Citizen_2', 'Citizen_3', 'Married_1', 'Married_2', 'Married_3', 'BankCustomer_1', 'BankCustomer_2', 'BankCustomer_3','Age','Debt', 'EducationLevel', \n",
    "          'YearsEmployed', 'PriorDefault', 'Employed', 'CreditScore', 'DriversLicense', 'Income', 'ApprovalStatus']\n",
    "\n",
    "#labels = ['Citizen_1', 'Citizen_2', 'Married_1', 'Married_2', 'BankCustomer_1', 'BankCustomer_2', 'Age','Debt', 'EducationLevel', \n",
    "#          'YearsEmployed', 'PriorDefault', 'Employed', 'CreditScore', 'DriversLicense', 'Income', 'ApprovalStatus']"
   ]
  },
  {
   "cell_type": "code",
   "execution_count": 91,
   "metadata": {},
   "outputs": [
    {
     "data": {
      "text/plain": [
       "0.0    357\n",
       "1.0    296\n",
       "Name: ApprovalStatus, dtype: int64"
      ]
     },
     "execution_count": 91,
     "metadata": {},
     "output_type": "execute_result"
    }
   ],
   "source": [
    "df_1hot = pd.DataFrame(data=dataset_1hot[0:, 0:], columns=labels)\n",
    "df_1hot[\"ApprovalStatus\"].value_counts()"
   ]
  },
  {
   "cell_type": "code",
   "execution_count": 92,
   "metadata": {
    "scrolled": true
   },
   "outputs": [],
   "source": [
    "df_1hot['ApprovalStatus'] = df_1hot['ApprovalStatus'].astype(int)"
   ]
  },
  {
   "cell_type": "code",
   "execution_count": 93,
   "metadata": {},
   "outputs": [
    {
     "name": "stdout",
     "output_type": "stream",
     "text": [
      "<class 'pandas.core.frame.DataFrame'>\n",
      "RangeIndex: 653 entries, 0 to 652\n",
      "Data columns (total 19 columns):\n",
      "Citizen_1         653 non-null float64\n",
      "Citizen_2         653 non-null float64\n",
      "Citizen_3         653 non-null float64\n",
      "Married_1         653 non-null float64\n",
      "Married_2         653 non-null float64\n",
      "Married_3         653 non-null float64\n",
      "BankCustomer_1    653 non-null float64\n",
      "BankCustomer_2    653 non-null float64\n",
      "BankCustomer_3    653 non-null float64\n",
      "Age               653 non-null float64\n",
      "Debt              653 non-null float64\n",
      "EducationLevel    653 non-null float64\n",
      "YearsEmployed     653 non-null float64\n",
      "PriorDefault      653 non-null float64\n",
      "Employed          653 non-null float64\n",
      "CreditScore       653 non-null float64\n",
      "DriversLicense    653 non-null float64\n",
      "Income            653 non-null float64\n",
      "ApprovalStatus    653 non-null int32\n",
      "dtypes: float64(18), int32(1)\n",
      "memory usage: 94.5 KB\n"
     ]
    }
   ],
   "source": [
    "df_1hot.info()"
   ]
  },
  {
   "cell_type": "code",
   "execution_count": 94,
   "metadata": {},
   "outputs": [],
   "source": [
    "df_values = df_1hot.values\n",
    "X, y = df_values[:, 0:18], df_values[:, 18]"
   ]
  },
  {
   "cell_type": "code",
   "execution_count": 95,
   "metadata": {},
   "outputs": [
    {
     "data": {
      "text/plain": [
       "Counter({1.0: 296, 0.0: 357})"
      ]
     },
     "execution_count": 95,
     "metadata": {},
     "output_type": "execute_result"
    }
   ],
   "source": [
    "import collections\n",
    "collections.Counter(y)"
   ]
  },
  {
   "cell_type": "code",
   "execution_count": 96,
   "metadata": {},
   "outputs": [],
   "source": [
    "X_train, X_test, y_train, y_test = train_test_split(X, y, test_size=0.30, random_state=42)"
   ]
  },
  {
   "cell_type": "code",
   "execution_count": 97,
   "metadata": {},
   "outputs": [],
   "source": [
    "#scaler=StandardScaler()\n",
    "\n",
    "#scaler = MinMaxScaler()\n",
    "#scaler = MinMaxScaler(feature_range=(0, 1))\n",
    "#rescaledX_train = scaler.fit_transform(X_train)\n",
    "#rescaledX_test = scaler.fit_transform(X_test)"
   ]
  },
  {
   "cell_type": "code",
   "execution_count": 98,
   "metadata": {},
   "outputs": [],
   "source": [
    "def display_scores(scores, classifier):\n",
    "    print(classifier + \" scores are: \", scores)\n",
    "    print(classifier + \" mean is: \", scores.mean())\n",
    "    print(classifier + \" std is: \", scores.std())"
   ]
  },
  {
   "cell_type": "code",
   "execution_count": 99,
   "metadata": {},
   "outputs": [],
   "source": [
    "def display_scores_confuionMarix(classifier, y_train, y_pred):\n",
    "    print(classifier + \" accuracy: \", accuracy_score(y_train, y_pred))\n",
    "    print(classifier + \" precision score: \", precision_score(y_train, y_pred))\n",
    "    print(classifier + \" recall score: \", recall_score(y_train, y_pred))\n",
    "    print(classifier + \" F1 score: \", f1_score(y_train, y_pred))\n"
   ]
  },
  {
   "cell_type": "code",
   "execution_count": 100,
   "metadata": {},
   "outputs": [],
   "source": [
    "def print_confusion_matrix(tn, fp, fn, tp):\n",
    "    print(\"TN: \", tn)\n",
    "    print(\"FP: \", fp)\n",
    "    print(\"FN: \", fn)\n",
    "    print(\"TP: \", tp)\n"
   ]
  },
  {
   "cell_type": "code",
   "execution_count": 101,
   "metadata": {},
   "outputs": [],
   "source": [
    "def plot_precision_recall_vs_threshold(precisions, recalls, thresholds):    \n",
    "    plt.plot(thresholds, precisions[:-1], \"b--\", label=\"Precision\")    \n",
    "    plt.plot(thresholds, recalls[:-1], \"g-\", label=\"Recall\")    \n",
    "    plt.xlabel(\"Threshold\")    \n",
    "    plt.legend(loc=\"upper left\")    \n",
    "    plt.ylim([0, 1])\n"
   ]
  },
  {
   "cell_type": "code",
   "execution_count": 102,
   "metadata": {},
   "outputs": [],
   "source": [
    "def plot_roc_curve(fpr, tpr, label=None):\n",
    "    plt.plot(fpr, tpr, linewidth=2, label=label)\n",
    "    plt.plot([0, 1], [0, 1], 'k--')\n",
    "    plt.axis([0, 1, 0, 1])    \n",
    "    plt.xlabel('False Positive Rate')\n",
    "    plt.ylabel('True Positive Rate')"
   ]
  },
  {
   "cell_type": "code",
   "execution_count": 103,
   "metadata": {},
   "outputs": [
    {
     "name": "stdout",
     "output_type": "stream",
     "text": [
      "Logistic Regression scores are:  [0.89130435 0.90217391 0.89010989 0.81318681 0.85714286]\n",
      "Logistic Regression mean is:  0.8707835642618249\n",
      "Logistic Regression std is:  0.03250667024046926\n",
      "Logistic Regression accuracy:  0.8708971553610503\n",
      "Logistic Regression precision score:  0.8296943231441049\n",
      "Logistic Regression recall score:  0.9047619047619048\n",
      "Logistic Regression F1 score:  0.8656036446469249\n",
      "TN:  208\n",
      "FP:  39\n",
      "FN:  20\n",
      "TP:  190\n",
      "roc_value:  0.9280019436345966\n"
     ]
    },
    {
     "data": {
      "image/png": "[encoded data removed]",
      "text/plain": [
       "<Figure size 432x288 with 1 Axes>"
      ]
     },
     "metadata": {
      "needs_background": "light"
     },
     "output_type": "display_data"
    },
    {
     "data": {
      "image/png": "[encoded data removed]",
      "text/plain": [
       "<Figure size 432x288 with 1 Axes>"
      ]
     },
     "metadata": {
      "needs_background": "light"
     },
     "output_type": "display_data"
    }
   ],
   "source": [
    "#####Logistic regression\n",
    "logReg = LogisticRegression(solver='liblinear')\n",
    "#logReg.fit(rescaledX_train, y_train)\n",
    "\n",
    "classifier = \"Logistic Regression\"\n",
    "\n",
    "#use cross-validation get scores and predictions\n",
    "y_train_pred = cross_val_predict(logReg, X_train, y_train, cv=5)\n",
    "logReg_scores = cross_val_score(logReg, X_train, y_train, cv=5)\n",
    "\n",
    "#print metrics and scores\n",
    "display_scores(logReg_scores, classifier)\n",
    "display_scores_confuionMarix(classifier, y_train, y_train_pred)\n",
    "\n",
    "\n",
    "# Print the confusion matrix of the logreg model\n",
    "confusionMatrix = confusion_matrix(y_train, y_train_pred)\n",
    "tn, fp, fn, tp = confusionMatrix.ravel()\n",
    "print_confusion_matrix(tn, fp, fn, tp)\n",
    "\n",
    "#ROC\n",
    "roc_value = cross_val_score(logReg, X_train, y_train, cv=5, scoring=\"roc_auc\").mean()\n",
    "print(\"roc_value: \", roc_value.mean())\n",
    "\n",
    "##making ROC_CURVE plot\n",
    "y_scores = cross_val_predict(logReg, X_train, y_train, cv=5, method=\"decision_function\")\n",
    "precisions, recalls, thresholds = precision_recall_curve(y_train, y_scores)\n",
    "plot_precision_recall_vs_threshold(precisions, recalls, thresholds)\n",
    "plt.show()\n",
    "\n",
    "fpr, tpr, thresholds = roc_curve(y_train, y_scores)\n",
    "plot_roc_curve(fpr, tpr)\n",
    "plt.show()\n"
   ]
  },
  {
   "cell_type": "code",
   "execution_count": 104,
   "metadata": {},
   "outputs": [
    {
     "name": "stdout",
     "output_type": "stream",
     "text": [
      "Random Forest Regression scores are:  [0.80434783 0.84782609 0.86813187 0.79120879 0.84615385]\n",
      "Random Forest Regression mean is:  0.8315336837075966\n",
      "Random Forest Regression std is:  0.028926757392916447\n",
      "Random Forest Regression accuracy:  0.8315098468271335\n",
      "Random Forest Regression precision score:  0.8308457711442786\n",
      "Random Forest Regression recall score:  0.7952380952380952\n",
      "Random Forest Regression F1 score:  0.8126520681265207\n",
      "TN:  213\n",
      "FP:  34\n",
      "FN:  43\n",
      "TP:  167\n",
      "roc_value:  0.9100320699708455\n"
     ]
    },
    {
     "name": "stderr",
     "output_type": "stream",
     "text": [
      "C:\\Users\\LeiX\\Anaconda3\\lib\\site-packages\\matplotlib\\legend.py:497: UserWarning: Unrecognized location \"bottom right\". Falling back on \"best\"; valid locations are\n",
      "\tbest\n",
      "\tupper right\n",
      "\tupper left\n",
      "\tlower left\n",
      "\tlower right\n",
      "\tright\n",
      "\tcenter left\n",
      "\tcenter right\n",
      "\tlower center\n",
      "\tupper center\n",
      "\tcenter\n",
      "\n",
      "  % (loc, '\\n\\t'.join(self.codes)))\n"
     ]
    },
    {
     "data": {
      "image/png": "[encoded data removed]",
      "text/plain": [
       "<Figure size 432x288 with 1 Axes>"
      ]
     },
     "metadata": {
      "needs_background": "light"
     },
     "output_type": "display_data"
    }
   ],
   "source": [
    "#Random Forest\n",
    "randomForest = RandomForestClassifier(n_estimators = 10, criterion = 'entropy', random_state=0)\n",
    "#randomForest.fit(X_train, y_train)\n",
    "classifier = \"Random Forest Regression\"\n",
    "\n",
    "#use cross-validation get scores and predictions\n",
    "randomForest_scores = cross_val_score(randomForest, X_train, y_train, cv=5)\n",
    "y_train_pred = cross_val_predict(randomForest, X_train, y_train, cv=5)\n",
    "\n",
    "#print metrics\n",
    "display_scores(randomForest_scores, classifier)\n",
    "display_scores_confuionMarix(classifier, y_train, y_train_pred)\n",
    "\n",
    "# Print the confusion matrix of the random forest model\n",
    "confusionMatrix = confusion_matrix(y_train, y_train_pred)\n",
    "tn, fp, fn, tp = confusionMatrix.ravel()\n",
    "print_confusion_matrix(tn, fp, fn, tp)\n",
    "\n",
    "##making ROC_CURVE plot\n",
    "y_probs = cross_val_predict(randomForest, X_train, y_train, cv=5, method=\"predict_proba\")\n",
    "\n",
    "#roc_value = roc_auc_score(y_train_pred, y_probs)\n",
    "\n",
    "roc_value = cross_val_score(randomForest, X_train, y_train, cv=5, scoring=\"roc_auc\")\n",
    "print(\"roc_value: \", roc_value.mean())\n",
    "y_score_forest = y_probs[:, 1]\n",
    "\n",
    "fp_forest, tp_forest, thresholds_forest = roc_curve(y_train, y_score_forest)\n",
    "plt.plot(fpr, tpr, \"b:\", label=\"SGD\")\n",
    "plot_roc_curve(fp_forest, tp_forest, classifier)\n",
    "plt.legend(loc=\"bottom right\")\n",
    "plt.show()"
   ]
  },
  {
   "cell_type": "code",
   "execution_count": 105,
   "metadata": {},
   "outputs": [
    {
     "name": "stdout",
     "output_type": "stream",
     "text": [
      "Naive Bayes Regression scores are:  [0.80434783 0.82608696 0.81318681 0.78021978 0.85714286]\n",
      "Naive Bayes Regression mean is:  0.8161968466316292\n",
      "Naive Bayes Regression std is:  0.025370056946067792\n",
      "Naive Bayes Regression accuracy:  0.8161925601750547\n",
      "Naive Bayes Regression precision score:  0.8662790697674418\n",
      "Naive Bayes Regression recall score:  0.7095238095238096\n",
      "Naive Bayes Regression F1 score:  0.7801047120418849\n",
      "TN:  224\n",
      "FP:  23\n",
      "FN:  61\n",
      "TP:  149\n",
      "roc_value:  0.8914207968901847\n"
     ]
    }
   ],
   "source": [
    "#Naive bayes\n",
    "naiveBayes = GaussianNB()\n",
    "#naiveBayes.fit(rescaledX_train, y_train)\n",
    "\n",
    "classifier = \"Naive Bayes Regression\"\n",
    "\n",
    "#use cross validation grt scores and predictions\n",
    "y_train_pred = cross_val_predict(naiveBayes, X=X_train, y=y_train, cv=5)\n",
    "naiveBayes_scores = cross_val_score(estimator=naiveBayes, X=X_train, y=y_train, cv=5)\n",
    "\n",
    "#print metrics\n",
    "display_scores(naiveBayes_scores, classifier)\n",
    "display_scores_confuionMarix(classifier, y_train, y_train_pred)\n",
    "\n",
    "# Print the confusion matrix of the random forest model\n",
    "confusionMatrix = confusion_matrix(y_train, y_train_pred)\n",
    "tn, fp, fn, tp = confusionMatrix.ravel()\n",
    "print_confusion_matrix(tn, fp, fn, tp)\n",
    "\n",
    "#ROC\n",
    "roc_value = cross_val_score(naiveBayes, X_train, y_train, cv=5, scoring=\"roc_auc\")\n",
    "print(\"roc_value: \", roc_value.mean())\n",
    "\n"
   ]
  },
  {
   "cell_type": "code",
   "execution_count": 106,
   "metadata": {},
   "outputs": [
    {
     "name": "stdout",
     "output_type": "stream",
     "text": [
      "Fitting 5 folds for each of 5000 candidates, totalling 25000 fits\n"
     ]
    },
    {
     "name": "stderr",
     "output_type": "stream",
     "text": [
      "[Parallel(n_jobs=-1)]: Using backend LokyBackend with 8 concurrent workers.\n",
      "[Parallel(n_jobs=-1)]: Done  25 tasks      | elapsed:    4.6s\n",
      "[Parallel(n_jobs=-1)]: Done 409 tasks      | elapsed:    9.7s\n",
      "[Parallel(n_jobs=-1)]: Done 1221 tasks      | elapsed:   20.3s\n",
      "[Parallel(n_jobs=-1)]: Done 2353 tasks      | elapsed:   35.9s\n",
      "[Parallel(n_jobs=-1)]: Done 3813 tasks      | elapsed:   57.6s\n",
      "[Parallel(n_jobs=-1)]: Done 5593 tasks      | elapsed:  1.3min\n",
      "[Parallel(n_jobs=-1)]: Done 7701 tasks      | elapsed:  1.8min\n",
      "[Parallel(n_jobs=-1)]: Done 10129 tasks      | elapsed:  2.4min\n",
      "[Parallel(n_jobs=-1)]: Done 12885 tasks      | elapsed:  3.0min\n",
      "[Parallel(n_jobs=-1)]: Done 15961 tasks      | elapsed:  3.8min\n",
      "[Parallel(n_jobs=-1)]: Done 19365 tasks      | elapsed:  4.6min\n",
      "[Parallel(n_jobs=-1)]: Done 23089 tasks      | elapsed:  5.6min\n",
      "[Parallel(n_jobs=-1)]: Done 25000 out of 25000 | elapsed:  6.1min finished\n",
      "C:\\Users\\LeiX\\Anaconda3\\lib\\site-packages\\sklearn\\model_selection\\_search.py:841: DeprecationWarning: The default of the `iid` parameter will change from True to False in version 0.22 and will be removed in 0.24. This will change numeric results when test-set sizes are unequal.\n",
      "  DeprecationWarning)\n"
     ]
    },
    {
     "data": {
      "text/plain": [
       "{'n_estimators': 200,\n",
       " 'min_samples_split': 0.1,\n",
       " 'min_samples_leaf': 0.1,\n",
       " 'max_features': 6,\n",
       " 'max_depth': 3.0}"
      ]
     },
     "execution_count": 106,
     "metadata": {},
     "output_type": "execute_result"
    }
   ],
   "source": [
    "param_grid = {\n",
    "    'max_depth': np.linspace(1, 32, 32, endpoint=True),\n",
    "    'max_features': list(range(1,X_train.shape[1])),\n",
    "    'min_samples_leaf': np.linspace(0.1, 0.5, 5, endpoint=True),\n",
    "    'min_samples_split': np.linspace(0.1, 1.0, 10, endpoint=True),\n",
    "    'n_estimators': [1, 2, 4, 8, 16, 32, 64, 100, 200]\n",
    "}\n",
    "#grid_search = GridSearchCV(estimator = randomForest, param_grid = param_grid, \n",
    "                          #cv = 5, n_jobs = -1, verbose = 2)\n",
    "#grid_search.fit(rescaledX_train, y_train)\n",
    "#best_accuracy = grid_search.best_score_\n",
    "#best_parameters = grid_search.best_params_\n",
    "\n",
    "rgs = RandomizedSearchCV(estimator=randomForest, param_distributions  = param_grid, n_iter = 5000, cv = 5, n_jobs = -1, verbose = 2)\n",
    "rgs.fit(X_train, y_train)\n",
    "\n",
    "rgs.best_params_"
   ]
  },
  {
   "cell_type": "code",
   "execution_count": 107,
   "metadata": {},
   "outputs": [],
   "source": [
    "rfc_best_model = RandomForestClassifier(max_depth=3.0, max_features=6, \n",
    "                                        min_samples_leaf=0.1,\n",
    "                                        min_samples_split= 0.1,\n",
    "                                        n_estimators=200,random_state=42)"
   ]
  },
  {
   "cell_type": "code",
   "execution_count": 108,
   "metadata": {},
   "outputs": [
    {
     "data": {
      "text/plain": [
       "RandomForestClassifier(bootstrap=True, class_weight=None, criterion='gini',\n",
       "            max_depth=3.0, max_features=6, max_leaf_nodes=None,\n",
       "            min_impurity_decrease=0.0, min_impurity_split=None,\n",
       "            min_samples_leaf=0.1, min_samples_split=0.1,\n",
       "            min_weight_fraction_leaf=0.0, n_estimators=200, n_jobs=None,\n",
       "            oob_score=False, random_state=42, verbose=0, warm_start=False)"
      ]
     },
     "execution_count": 108,
     "metadata": {},
     "output_type": "execute_result"
    }
   ],
   "source": [
    "rfc_best_model.fit(X_train, y_train)"
   ]
  },
  {
   "cell_type": "code",
   "execution_count": 109,
   "metadata": {},
   "outputs": [],
   "source": [
    "y_pred_test = rfc_best_model.predict(X_test)"
   ]
  },
  {
   "cell_type": "code",
   "execution_count": 110,
   "metadata": {},
   "outputs": [
    {
     "name": "stdout",
     "output_type": "stream",
     "text": [
      "TN:  95\n",
      "FP:  15\n",
      "FN:  15\n",
      "TP:  71\n"
     ]
    }
   ],
   "source": [
    "confusionMatrix = confusion_matrix(y_test, y_pred_test)\n",
    "tn, fp, fn, tp = confusionMatrix.ravel()\n",
    "print_confusion_matrix(tn, fp, fn, tp)"
   ]
  },
  {
   "cell_type": "code",
   "execution_count": 111,
   "metadata": {},
   "outputs": [
    {
     "name": "stdout",
     "output_type": "stream",
     "text": [
      "Random forest accuracy:  0.8469387755102041\n",
      "Random forest precision score:  0.8255813953488372\n",
      "Random forest recall score:  0.8255813953488372\n",
      "Random forest F1 score:  0.8255813953488372\n"
     ]
    }
   ],
   "source": [
    "display_scores_confuionMarix(\"Random forest\", y_test, y_pred_test)"
   ]
  },
  {
   "cell_type": "code",
   "execution_count": null,
   "metadata": {},
   "outputs": [],
   "source": []
  }
 ],
 "metadata": {
  "kernelspec": {
   "display_name": "Python 3",
   "language": "python",
   "name": "python3"
  },
  "language_info": {
   "codemirror_mode": {
    "name": "ipython",
    "version": 3
   },
   "file_extension": ".py",
   "mimetype": "text/x-python",
   "name": "python",
   "nbconvert_exporter": "python",
   "pygments_lexer": "ipython3",
   "version": "3.7.1"
  }
 },
 "nbformat": 4,
 "nbformat_minor": 2
}
