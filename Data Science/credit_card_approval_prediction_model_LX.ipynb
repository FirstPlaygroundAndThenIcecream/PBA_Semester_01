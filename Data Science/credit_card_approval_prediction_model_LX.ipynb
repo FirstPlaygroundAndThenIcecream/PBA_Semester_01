{
 "cells": [
  {
   "cell_type": "code",
   "execution_count": 50,
   "metadata": {},
   "outputs": [],
   "source": [
    "#imports\n",
    "import os\n",
    "from six.moves import urllib\n",
    "import pandas as pd\n",
    "import numpy as np \n",
    "from sklearn.model_selection import train_test_split\n",
    "from sklearn.preprocessing import MinMaxScaler, LabelEncoder, OneHotEncoder\n",
    "from sklearn.linear_model import LogisticRegression\n",
    "from sklearn.metrics import confusion_matrix\n",
    "from sklearn import metrics\n",
    "import matplotlib.pyplot as plt\n",
    "from sklearn.model_selection import GridSearchCV\n",
    "import seaborn as sns\n",
    "from sklearn import svm\n",
    "from sklearn.ensemble import RandomForestClassifier\n",
    "from sklearn.naive_bayes import GaussianNB\n",
    "from sklearn.metrics import accuracy_score\n",
    "from sklearn.model_selection import cross_val_score\n",
    "from statsmodels import robust\n",
    "from sklearn.compose import ColumnTransformer, make_column_transformer"
   ]
  },
  {
   "cell_type": "code",
   "execution_count": 51,
   "metadata": {},
   "outputs": [],
   "source": [
    "DOWNLOAD_ROOT = \"http://archive.ics.uci.edu/ml/machine-learning-databases/credit-screening\"\n",
    "CREDIT_DATA_URL = DOWNLOAD_ROOT + \"/crx.data\"\n",
    "CREDIT_DATA_PATH = \"datasets/credit-screening\""
   ]
  },
  {
   "cell_type": "code",
   "execution_count": 52,
   "metadata": {},
   "outputs": [],
   "source": [
    "# fetch data from its origin\n",
    "def fetch_credit_crad_data(credit_data_url=CREDIT_DATA_URL, credit_path=CREDIT_DATA_PATH):\n",
    "    if not os.path.isdir(credit_path):\n",
    "        os.makedirs(credit_path)\n",
    "    credit_data_path = os.path.join(credit_path, \"crx.data\")\n",
    "    urllib.request.urlretrieve(credit_data_url, credit_data_path)\n",
    "\n",
    "fetch_credit_crad_data()"
   ]
  },
  {
   "cell_type": "code",
   "execution_count": 53,
   "metadata": {},
   "outputs": [
    {
     "data": {
      "text/html": [
       "<div>\n",
       "<style scoped>\n",
       "    .dataframe tbody tr th:only-of-type {\n",
       "        vertical-align: middle;\n",
       "    }\n",
       "\n",
       "    .dataframe tbody tr th {\n",
       "        vertical-align: top;\n",
       "    }\n",
       "\n",
       "    .dataframe thead th {\n",
       "        text-align: right;\n",
       "    }\n",
       "</style>\n",
       "<table border=\"1\" class=\"dataframe\">\n",
       "  <thead>\n",
       "    <tr style=\"text-align: right;\">\n",
       "      <th></th>\n",
       "      <th>0</th>\n",
       "      <th>1</th>\n",
       "      <th>2</th>\n",
       "      <th>3</th>\n",
       "      <th>4</th>\n",
       "    </tr>\n",
       "  </thead>\n",
       "  <tbody>\n",
       "    <tr>\n",
       "      <th>Gender</th>\n",
       "      <td>b</td>\n",
       "      <td>a</td>\n",
       "      <td>a</td>\n",
       "      <td>b</td>\n",
       "      <td>b</td>\n",
       "    </tr>\n",
       "    <tr>\n",
       "      <th>Age</th>\n",
       "      <td>30.83</td>\n",
       "      <td>58.67</td>\n",
       "      <td>24.50</td>\n",
       "      <td>27.83</td>\n",
       "      <td>20.17</td>\n",
       "    </tr>\n",
       "    <tr>\n",
       "      <th>Debt</th>\n",
       "      <td>0</td>\n",
       "      <td>4.46</td>\n",
       "      <td>0.5</td>\n",
       "      <td>1.54</td>\n",
       "      <td>5.625</td>\n",
       "    </tr>\n",
       "    <tr>\n",
       "      <th>Married</th>\n",
       "      <td>u</td>\n",
       "      <td>u</td>\n",
       "      <td>u</td>\n",
       "      <td>u</td>\n",
       "      <td>u</td>\n",
       "    </tr>\n",
       "    <tr>\n",
       "      <th>BankCustomer</th>\n",
       "      <td>g</td>\n",
       "      <td>g</td>\n",
       "      <td>g</td>\n",
       "      <td>g</td>\n",
       "      <td>g</td>\n",
       "    </tr>\n",
       "    <tr>\n",
       "      <th>EducationLevel</th>\n",
       "      <td>w</td>\n",
       "      <td>q</td>\n",
       "      <td>q</td>\n",
       "      <td>w</td>\n",
       "      <td>w</td>\n",
       "    </tr>\n",
       "    <tr>\n",
       "      <th>Ethnicity</th>\n",
       "      <td>v</td>\n",
       "      <td>h</td>\n",
       "      <td>h</td>\n",
       "      <td>v</td>\n",
       "      <td>v</td>\n",
       "    </tr>\n",
       "    <tr>\n",
       "      <th>YearsEmployed</th>\n",
       "      <td>1.25</td>\n",
       "      <td>3.04</td>\n",
       "      <td>1.5</td>\n",
       "      <td>3.75</td>\n",
       "      <td>1.71</td>\n",
       "    </tr>\n",
       "    <tr>\n",
       "      <th>PriorDefault</th>\n",
       "      <td>t</td>\n",
       "      <td>t</td>\n",
       "      <td>t</td>\n",
       "      <td>t</td>\n",
       "      <td>t</td>\n",
       "    </tr>\n",
       "    <tr>\n",
       "      <th>Employed</th>\n",
       "      <td>t</td>\n",
       "      <td>t</td>\n",
       "      <td>f</td>\n",
       "      <td>t</td>\n",
       "      <td>f</td>\n",
       "    </tr>\n",
       "    <tr>\n",
       "      <th>CreditScore</th>\n",
       "      <td>1</td>\n",
       "      <td>6</td>\n",
       "      <td>0</td>\n",
       "      <td>5</td>\n",
       "      <td>0</td>\n",
       "    </tr>\n",
       "    <tr>\n",
       "      <th>DriversLicense</th>\n",
       "      <td>f</td>\n",
       "      <td>f</td>\n",
       "      <td>f</td>\n",
       "      <td>t</td>\n",
       "      <td>f</td>\n",
       "    </tr>\n",
       "    <tr>\n",
       "      <th>Citizen</th>\n",
       "      <td>g</td>\n",
       "      <td>g</td>\n",
       "      <td>g</td>\n",
       "      <td>g</td>\n",
       "      <td>s</td>\n",
       "    </tr>\n",
       "    <tr>\n",
       "      <th>ZipCode</th>\n",
       "      <td>00202</td>\n",
       "      <td>00043</td>\n",
       "      <td>00280</td>\n",
       "      <td>00100</td>\n",
       "      <td>00120</td>\n",
       "    </tr>\n",
       "    <tr>\n",
       "      <th>Income</th>\n",
       "      <td>0</td>\n",
       "      <td>560</td>\n",
       "      <td>824</td>\n",
       "      <td>3</td>\n",
       "      <td>0</td>\n",
       "    </tr>\n",
       "    <tr>\n",
       "      <th>ApprovalStatus</th>\n",
       "      <td>+</td>\n",
       "      <td>+</td>\n",
       "      <td>+</td>\n",
       "      <td>+</td>\n",
       "      <td>+</td>\n",
       "    </tr>\n",
       "  </tbody>\n",
       "</table>\n",
       "</div>"
      ],
      "text/plain": [
       "                    0      1      2      3      4\n",
       "Gender              b      a      a      b      b\n",
       "Age             30.83  58.67  24.50  27.83  20.17\n",
       "Debt                0   4.46    0.5   1.54  5.625\n",
       "Married             u      u      u      u      u\n",
       "BankCustomer        g      g      g      g      g\n",
       "EducationLevel      w      q      q      w      w\n",
       "Ethnicity           v      h      h      v      v\n",
       "YearsEmployed    1.25   3.04    1.5   3.75   1.71\n",
       "PriorDefault        t      t      t      t      t\n",
       "Employed            t      t      f      t      f\n",
       "CreditScore         1      6      0      5      0\n",
       "DriversLicense      f      f      f      t      f\n",
       "Citizen             g      g      g      g      s\n",
       "ZipCode         00202  00043  00280  00100  00120\n",
       "Income              0    560    824      3      0\n",
       "ApprovalStatus      +      +      +      +      +"
      ]
     },
     "execution_count": 53,
     "metadata": {},
     "output_type": "execute_result"
    }
   ],
   "source": [
    "def load_credit_card_data(credit_data_path=CREDIT_DATA_PATH):\n",
    "    csv_path=os.path.join(credit_data_path, \"crx.data\")\n",
    "    pd.set_option('display.max_columns', None)\n",
    "    col_names = [\"Gender\",\"Age\",\"Debt\",\"Married\",\"BankCustomer\",\"EducationLevel\",\"Ethnicity\",\"YearsEmployed\",\"PriorDefault\",\"Employed\",\"CreditScore\", \"DriversLicense\", \"Citizen\", \"ZipCode\", \"Income\" , \"ApprovalStatus\"]\n",
    "    return pd.read_csv(csv_path, header=None, names=col_names)\n",
    "\n",
    "data = load_credit_card_data()\n",
    "dataset = data.copy()\n",
    "dataset.head().T"
   ]
  },
  {
   "cell_type": "code",
   "execution_count": 54,
   "metadata": {},
   "outputs": [
    {
     "name": "stdout",
     "output_type": "stream",
     "text": [
      "<class 'pandas.core.frame.DataFrame'>\n",
      "RangeIndex: 690 entries, 0 to 689\n",
      "Data columns (total 16 columns):\n",
      "Gender            690 non-null object\n",
      "Age               690 non-null object\n",
      "Debt              690 non-null float64\n",
      "Married           690 non-null object\n",
      "BankCustomer      690 non-null object\n",
      "EducationLevel    690 non-null object\n",
      "Ethnicity         690 non-null object\n",
      "YearsEmployed     690 non-null float64\n",
      "PriorDefault      690 non-null object\n",
      "Employed          690 non-null object\n",
      "CreditScore       690 non-null int64\n",
      "DriversLicense    690 non-null object\n",
      "Citizen           690 non-null object\n",
      "ZipCode           690 non-null object\n",
      "Income            690 non-null int64\n",
      "ApprovalStatus    690 non-null object\n",
      "dtypes: float64(2), int64(2), object(12)\n",
      "memory usage: 86.3+ KB\n"
     ]
    }
   ],
   "source": [
    "dataset.info()"
   ]
  },
  {
   "cell_type": "code",
   "execution_count": 55,
   "metadata": {},
   "outputs": [
    {
     "data": {
      "text/plain": [
       "67      1\n",
       "19      1\n",
       "13      1\n",
       "40      1\n",
       "23      1\n",
       "20      2\n",
       "17      2\n",
       "16      3\n",
       "15      4\n",
       "10      8\n",
       "12      8\n",
       "14      8\n",
       "8      10\n",
       "9      10\n",
       "4      15\n",
       "7      16\n",
       "5      18\n",
       "11     19\n",
       "6      23\n",
       "3      28\n",
       "2      45\n",
       "1      71\n",
       "0     395\n",
       "Name: CreditScore, dtype: int64"
      ]
     },
     "execution_count": 55,
     "metadata": {},
     "output_type": "execute_result"
    }
   ],
   "source": [
    "dataset['CreditScore'].value_counts().sort_values(ascending=True)"
   ]
  },
  {
   "cell_type": "code",
   "execution_count": 56,
   "metadata": {},
   "outputs": [
    {
     "data": {
      "text/plain": [
       "Gender            0\n",
       "Age               0\n",
       "Debt              0\n",
       "Married           0\n",
       "BankCustomer      0\n",
       "EducationLevel    0\n",
       "Ethnicity         0\n",
       "YearsEmployed     0\n",
       "PriorDefault      0\n",
       "Employed          0\n",
       "CreditScore       0\n",
       "DriversLicense    0\n",
       "Citizen           0\n",
       "ZipCode           0\n",
       "Income            0\n",
       "ApprovalStatus    0\n",
       "dtype: int64"
      ]
     },
     "execution_count": 56,
     "metadata": {},
     "output_type": "execute_result"
    }
   ],
   "source": [
    "#replace some values so it makes sense\n",
    "dataset = dataset.replace(\"?\", np.nan).replace('+', 1).replace('-', 0)\n",
    "\n",
    "#drop all row which have at least one null value\n",
    "dataset.dropna(inplace=True)\n",
    "dataset.isna().sum()"
   ]
  },
  {
   "cell_type": "code",
   "execution_count": 57,
   "metadata": {},
   "outputs": [
    {
     "name": "stdout",
     "output_type": "stream",
     "text": [
      "<class 'pandas.core.frame.DataFrame'>\n",
      "Int64Index: 653 entries, 0 to 689\n",
      "Data columns (total 16 columns):\n",
      "Gender            653 non-null object\n",
      "Age               653 non-null float64\n",
      "Debt              653 non-null float64\n",
      "Married           653 non-null object\n",
      "BankCustomer      653 non-null object\n",
      "EducationLevel    653 non-null object\n",
      "Ethnicity         653 non-null object\n",
      "YearsEmployed     653 non-null float64\n",
      "PriorDefault      653 non-null object\n",
      "Employed          653 non-null object\n",
      "CreditScore       653 non-null int64\n",
      "DriversLicense    653 non-null object\n",
      "Citizen           653 non-null object\n",
      "ZipCode           653 non-null object\n",
      "Income            653 non-null int64\n",
      "ApprovalStatus    653 non-null int64\n",
      "dtypes: float64(3), int64(3), object(10)\n",
      "memory usage: 86.7+ KB\n"
     ]
    }
   ],
   "source": [
    "dataset['Age'] = dataset['Age'].astype('float')\n",
    "dataset.info()"
   ]
  },
  {
   "cell_type": "code",
   "execution_count": 58,
   "metadata": {},
   "outputs": [
    {
     "data": {
      "text/plain": [
       "0    357\n",
       "1    296\n",
       "Name: ApprovalStatus, dtype: int64"
      ]
     },
     "execution_count": 58,
     "metadata": {},
     "output_type": "execute_result"
    }
   ],
   "source": [
    "dataset['ApprovalStatus'].value_counts()"
   ]
  },
  {
   "cell_type": "code",
   "execution_count": 59,
   "metadata": {},
   "outputs": [
    {
     "data": {
      "text/plain": [
       "<matplotlib.axes._subplots.AxesSubplot at 0x26aa96436a0>"
      ]
     },
     "execution_count": 59,
     "metadata": {},
     "output_type": "execute_result"
    },
    {
     "data": {
      "image/png": "[encoded data removed]",
      "text/plain": [
       "<Figure size 432x288 with 1 Axes>"
      ]
     },
     "metadata": {
      "needs_background": "light"
     },
     "output_type": "display_data"
    }
   ],
   "source": [
    "CountStatus = pd.value_counts(dataset['ApprovalStatus'].values, sort=False)\n",
    "plt.ylabel('Number of applications')\n",
    "plt.title('Approval status')\n",
    "CountStatus.plot.bar()"
   ]
  },
  {
   "cell_type": "code",
   "execution_count": 60,
   "metadata": {},
   "outputs": [
    {
     "data": {
      "text/plain": [
       "Gender              int32\n",
       "Age               float64\n",
       "Debt              float64\n",
       "Married             int32\n",
       "BankCustomer        int32\n",
       "EducationLevel      int32\n",
       "Ethnicity           int32\n",
       "YearsEmployed     float64\n",
       "PriorDefault        int32\n",
       "Employed            int32\n",
       "CreditScore         int64\n",
       "DriversLicense      int32\n",
       "Citizen             int32\n",
       "ZipCode             int32\n",
       "Income              int64\n",
       "ApprovalStatus      int64\n",
       "dtype: object"
      ]
     },
     "execution_count": 60,
     "metadata": {},
     "output_type": "execute_result"
    }
   ],
   "source": [
    "# convert dataset_dropNa cat attributes to numeric\n",
    "le = preprocessing.LabelEncoder()\n",
    "\n",
    "for col in dataset:\n",
    "    if dataset[col].dtypes == 'object':\n",
    "        dataset[col]=le.fit_transform(dataset[col])\n",
    "dataset.dtypes"
   ]
  },
  {
   "cell_type": "code",
   "execution_count": 61,
   "metadata": {},
   "outputs": [
    {
     "name": "stdout",
     "output_type": "stream",
     "text": [
      "<class 'pandas.core.frame.DataFrame'>\n",
      "Int64Index: 653 entries, 0 to 689\n",
      "Data columns (total 16 columns):\n",
      "Gender            653 non-null int32\n",
      "Age               653 non-null float64\n",
      "Debt              653 non-null float64\n",
      "Married           653 non-null int32\n",
      "BankCustomer      653 non-null int32\n",
      "EducationLevel    653 non-null int32\n",
      "Ethnicity         653 non-null int32\n",
      "YearsEmployed     653 non-null float64\n",
      "PriorDefault      653 non-null int32\n",
      "Employed          653 non-null int32\n",
      "CreditScore       653 non-null int64\n",
      "DriversLicense    653 non-null int32\n",
      "Citizen           653 non-null int32\n",
      "ZipCode           653 non-null int32\n",
      "Income            653 non-null int64\n",
      "ApprovalStatus    653 non-null int64\n",
      "dtypes: float64(3), int32(10), int64(3)\n",
      "memory usage: 61.2 KB\n"
     ]
    }
   ],
   "source": [
    "dataset.info()"
   ]
  },
  {
   "cell_type": "code",
   "execution_count": 62,
   "metadata": {},
   "outputs": [
    {
     "data": {
      "text/plain": [
       "array([[<matplotlib.axes._subplots.AxesSubplot object at 0x0000026AA9643FD0>,\n",
       "        <matplotlib.axes._subplots.AxesSubplot object at 0x0000026AAE12D2E8>,\n",
       "        <matplotlib.axes._subplots.AxesSubplot object at 0x0000026AAE154550>,\n",
       "        <matplotlib.axes._subplots.AxesSubplot object at 0x0000026AAE17E780>],\n",
       "       [<matplotlib.axes._subplots.AxesSubplot object at 0x0000026AAE8279E8>,\n",
       "        <matplotlib.axes._subplots.AxesSubplot object at 0x0000026AAE84FC50>,\n",
       "        <matplotlib.axes._subplots.AxesSubplot object at 0x0000026AAE879EB8>,\n",
       "        <matplotlib.axes._subplots.AxesSubplot object at 0x0000026AAE8AC198>],\n",
       "       [<matplotlib.axes._subplots.AxesSubplot object at 0x0000026AAE8AC1D0>,\n",
       "        <matplotlib.axes._subplots.AxesSubplot object at 0x0000026AAE8FC630>,\n",
       "        <matplotlib.axes._subplots.AxesSubplot object at 0x0000026AAE925898>,\n",
       "        <matplotlib.axes._subplots.AxesSubplot object at 0x0000026AAE950B00>],\n",
       "       [<matplotlib.axes._subplots.AxesSubplot object at 0x0000026AAE979D68>,\n",
       "        <matplotlib.axes._subplots.AxesSubplot object at 0x0000026AAE9A0FD0>,\n",
       "        <matplotlib.axes._subplots.AxesSubplot object at 0x0000026AAE9D4278>,\n",
       "        <matplotlib.axes._subplots.AxesSubplot object at 0x0000026AAE9FC4E0>]],\n",
       "      dtype=object)"
      ]
     },
     "execution_count": 62,
     "metadata": {},
     "output_type": "execute_result"
    },
    {
     "data": {
      "image/png": "[encoded data removed]",
      "text/plain": [
       "<Figure size 1440x1080 with 16 Axes>"
      ]
     },
     "metadata": {
      "needs_background": "light"
     },
     "output_type": "display_data"
    }
   ],
   "source": [
    "dataset.hist(bins=20, figsize=(20,15))"
   ]
  },
  {
   "cell_type": "code",
   "execution_count": 63,
   "metadata": {},
   "outputs": [
    {
     "data": {
      "text/html": [
       "<div>\n",
       "<style scoped>\n",
       "    .dataframe tbody tr th:only-of-type {\n",
       "        vertical-align: middle;\n",
       "    }\n",
       "\n",
       "    .dataframe tbody tr th {\n",
       "        vertical-align: top;\n",
       "    }\n",
       "\n",
       "    .dataframe thead th {\n",
       "        text-align: right;\n",
       "    }\n",
       "</style>\n",
       "<table border=\"1\" class=\"dataframe\">\n",
       "  <thead>\n",
       "    <tr style=\"text-align: right;\">\n",
       "      <th></th>\n",
       "      <th>Gender</th>\n",
       "      <th>Age</th>\n",
       "      <th>Debt</th>\n",
       "      <th>Married</th>\n",
       "      <th>BankCustomer</th>\n",
       "      <th>EducationLevel</th>\n",
       "      <th>Ethnicity</th>\n",
       "      <th>YearsEmployed</th>\n",
       "      <th>PriorDefault</th>\n",
       "      <th>Employed</th>\n",
       "      <th>CreditScore</th>\n",
       "      <th>DriversLicense</th>\n",
       "      <th>Citizen</th>\n",
       "      <th>ZipCode</th>\n",
       "      <th>Income</th>\n",
       "      <th>ApprovalStatus</th>\n",
       "    </tr>\n",
       "  </thead>\n",
       "  <tbody>\n",
       "    <tr>\n",
       "      <th>Gender</th>\n",
       "      <td>1.000000</td>\n",
       "      <td>0.042177</td>\n",
       "      <td>-0.034906</td>\n",
       "      <td>0.066742</td>\n",
       "      <td>0.063122</td>\n",
       "      <td>-0.011568</td>\n",
       "      <td>0.057212</td>\n",
       "      <td>0.084899</td>\n",
       "      <td>-0.023251</td>\n",
       "      <td>-0.065192</td>\n",
       "      <td>-0.016683</td>\n",
       "      <td>0.052315</td>\n",
       "      <td>0.081948</td>\n",
       "      <td>0.109199</td>\n",
       "      <td>0.013099</td>\n",
       "      <td>-0.019817</td>\n",
       "    </tr>\n",
       "    <tr>\n",
       "      <th>Age</th>\n",
       "      <td>0.042177</td>\n",
       "      <td>1.000000</td>\n",
       "      <td>0.217681</td>\n",
       "      <td>-0.091395</td>\n",
       "      <td>-0.105122</td>\n",
       "      <td>0.023282</td>\n",
       "      <td>-0.189454</td>\n",
       "      <td>0.417647</td>\n",
       "      <td>0.218637</td>\n",
       "      <td>0.103633</td>\n",
       "      <td>0.198153</td>\n",
       "      <td>0.058133</td>\n",
       "      <td>-0.021586</td>\n",
       "      <td>-0.090538</td>\n",
       "      <td>0.029078</td>\n",
       "      <td>0.180252</td>\n",
       "    </tr>\n",
       "    <tr>\n",
       "      <th>Debt</th>\n",
       "      <td>-0.034906</td>\n",
       "      <td>0.217681</td>\n",
       "      <td>1.000000</td>\n",
       "      <td>-0.102243</td>\n",
       "      <td>-0.089745</td>\n",
       "      <td>0.009221</td>\n",
       "      <td>-0.030666</td>\n",
       "      <td>0.300600</td>\n",
       "      <td>0.236751</td>\n",
       "      <td>0.166092</td>\n",
       "      <td>0.269834</td>\n",
       "      <td>-0.006083</td>\n",
       "      <td>-0.105181</td>\n",
       "      <td>-0.266549</td>\n",
       "      <td>0.119754</td>\n",
       "      <td>0.207086</td>\n",
       "    </tr>\n",
       "    <tr>\n",
       "      <th>Married</th>\n",
       "      <td>0.066742</td>\n",
       "      <td>-0.091395</td>\n",
       "      <td>-0.102243</td>\n",
       "      <td>1.000000</td>\n",
       "      <td>0.981080</td>\n",
       "      <td>-0.045024</td>\n",
       "      <td>-0.021015</td>\n",
       "      <td>-0.089650</td>\n",
       "      <td>-0.116015</td>\n",
       "      <td>-0.158118</td>\n",
       "      <td>-0.104061</td>\n",
       "      <td>-0.009850</td>\n",
       "      <td>-0.037934</td>\n",
       "      <td>-0.001085</td>\n",
       "      <td>-0.118505</td>\n",
       "      <td>-0.179700</td>\n",
       "    </tr>\n",
       "    <tr>\n",
       "      <th>BankCustomer</th>\n",
       "      <td>0.063122</td>\n",
       "      <td>-0.105122</td>\n",
       "      <td>-0.089745</td>\n",
       "      <td>0.981080</td>\n",
       "      <td>1.000000</td>\n",
       "      <td>-0.051335</td>\n",
       "      <td>-0.026003</td>\n",
       "      <td>-0.081862</td>\n",
       "      <td>-0.129090</td>\n",
       "      <td>-0.169691</td>\n",
       "      <td>-0.110822</td>\n",
       "      <td>0.001747</td>\n",
       "      <td>-0.011931</td>\n",
       "      <td>0.013922</td>\n",
       "      <td>-0.018528</td>\n",
       "      <td>-0.169976</td>\n",
       "    </tr>\n",
       "    <tr>\n",
       "      <th>EducationLevel</th>\n",
       "      <td>-0.011568</td>\n",
       "      <td>0.023282</td>\n",
       "      <td>0.009221</td>\n",
       "      <td>-0.045024</td>\n",
       "      <td>-0.051335</td>\n",
       "      <td>1.000000</td>\n",
       "      <td>-0.000935</td>\n",
       "      <td>0.032704</td>\n",
       "      <td>0.105197</td>\n",
       "      <td>0.112155</td>\n",
       "      <td>-0.002706</td>\n",
       "      <td>0.069720</td>\n",
       "      <td>0.017234</td>\n",
       "      <td>0.107930</td>\n",
       "      <td>-0.006700</td>\n",
       "      <td>0.123314</td>\n",
       "    </tr>\n",
       "    <tr>\n",
       "      <th>Ethnicity</th>\n",
       "      <td>0.057212</td>\n",
       "      <td>-0.189454</td>\n",
       "      <td>-0.030666</td>\n",
       "      <td>-0.021015</td>\n",
       "      <td>-0.026003</td>\n",
       "      <td>-0.000935</td>\n",
       "      <td>1.000000</td>\n",
       "      <td>-0.094978</td>\n",
       "      <td>-0.034977</td>\n",
       "      <td>-0.001452</td>\n",
       "      <td>-0.037329</td>\n",
       "      <td>-0.004235</td>\n",
       "      <td>0.042494</td>\n",
       "      <td>-0.019605</td>\n",
       "      <td>-0.022527</td>\n",
       "      <td>-0.011023</td>\n",
       "    </tr>\n",
       "    <tr>\n",
       "      <th>YearsEmployed</th>\n",
       "      <td>0.084899</td>\n",
       "      <td>0.417647</td>\n",
       "      <td>0.300600</td>\n",
       "      <td>-0.089650</td>\n",
       "      <td>-0.081862</td>\n",
       "      <td>0.032704</td>\n",
       "      <td>-0.094978</td>\n",
       "      <td>1.000000</td>\n",
       "      <td>0.336148</td>\n",
       "      <td>0.228035</td>\n",
       "      <td>0.327325</td>\n",
       "      <td>0.139317</td>\n",
       "      <td>-0.001762</td>\n",
       "      <td>-0.093188</td>\n",
       "      <td>0.052159</td>\n",
       "      <td>0.332728</td>\n",
       "    </tr>\n",
       "    <tr>\n",
       "      <th>PriorDefault</th>\n",
       "      <td>-0.023251</td>\n",
       "      <td>0.218637</td>\n",
       "      <td>0.236751</td>\n",
       "      <td>-0.116015</td>\n",
       "      <td>-0.129090</td>\n",
       "      <td>0.105197</td>\n",
       "      <td>-0.034977</td>\n",
       "      <td>0.336148</td>\n",
       "      <td>1.000000</td>\n",
       "      <td>0.430586</td>\n",
       "      <td>0.378264</td>\n",
       "      <td>0.089864</td>\n",
       "      <td>-0.110474</td>\n",
       "      <td>-0.064796</td>\n",
       "      <td>0.084427</td>\n",
       "      <td>0.738829</td>\n",
       "    </tr>\n",
       "    <tr>\n",
       "      <th>Employed</th>\n",
       "      <td>-0.065192</td>\n",
       "      <td>0.103633</td>\n",
       "      <td>0.166092</td>\n",
       "      <td>-0.158118</td>\n",
       "      <td>-0.169691</td>\n",
       "      <td>0.112155</td>\n",
       "      <td>-0.001452</td>\n",
       "      <td>0.228035</td>\n",
       "      <td>0.430586</td>\n",
       "      <td>1.000000</td>\n",
       "      <td>0.569176</td>\n",
       "      <td>0.020223</td>\n",
       "      <td>-0.233452</td>\n",
       "      <td>-0.070939</td>\n",
       "      <td>0.068189</td>\n",
       "      <td>0.451866</td>\n",
       "    </tr>\n",
       "    <tr>\n",
       "      <th>CreditScore</th>\n",
       "      <td>-0.016683</td>\n",
       "      <td>0.198153</td>\n",
       "      <td>0.269834</td>\n",
       "      <td>-0.104061</td>\n",
       "      <td>-0.110822</td>\n",
       "      <td>-0.002706</td>\n",
       "      <td>-0.037329</td>\n",
       "      <td>0.327325</td>\n",
       "      <td>0.378264</td>\n",
       "      <td>0.569176</td>\n",
       "      <td>1.000000</td>\n",
       "      <td>0.005757</td>\n",
       "      <td>-0.134091</td>\n",
       "      <td>-0.131468</td>\n",
       "      <td>0.058408</td>\n",
       "      <td>0.406052</td>\n",
       "    </tr>\n",
       "    <tr>\n",
       "      <th>DriversLicense</th>\n",
       "      <td>0.052315</td>\n",
       "      <td>0.058133</td>\n",
       "      <td>-0.006083</td>\n",
       "      <td>-0.009850</td>\n",
       "      <td>0.001747</td>\n",
       "      <td>0.069720</td>\n",
       "      <td>-0.004235</td>\n",
       "      <td>0.139317</td>\n",
       "      <td>0.089864</td>\n",
       "      <td>0.020223</td>\n",
       "      <td>0.005757</td>\n",
       "      <td>1.000000</td>\n",
       "      <td>0.017105</td>\n",
       "      <td>0.160364</td>\n",
       "      <td>0.027534</td>\n",
       "      <td>0.050011</td>\n",
       "    </tr>\n",
       "    <tr>\n",
       "      <th>Citizen</th>\n",
       "      <td>0.081948</td>\n",
       "      <td>-0.021586</td>\n",
       "      <td>-0.105181</td>\n",
       "      <td>-0.037934</td>\n",
       "      <td>-0.011931</td>\n",
       "      <td>0.017234</td>\n",
       "      <td>0.042494</td>\n",
       "      <td>-0.001762</td>\n",
       "      <td>-0.110474</td>\n",
       "      <td>-0.233452</td>\n",
       "      <td>-0.134091</td>\n",
       "      <td>0.017105</td>\n",
       "      <td>1.000000</td>\n",
       "      <td>0.064227</td>\n",
       "      <td>-0.005020</td>\n",
       "      <td>-0.100785</td>\n",
       "    </tr>\n",
       "    <tr>\n",
       "      <th>ZipCode</th>\n",
       "      <td>0.109199</td>\n",
       "      <td>-0.090538</td>\n",
       "      <td>-0.266549</td>\n",
       "      <td>-0.001085</td>\n",
       "      <td>0.013922</td>\n",
       "      <td>0.107930</td>\n",
       "      <td>-0.019605</td>\n",
       "      <td>-0.093188</td>\n",
       "      <td>-0.064796</td>\n",
       "      <td>-0.070939</td>\n",
       "      <td>-0.131468</td>\n",
       "      <td>0.160364</td>\n",
       "      <td>0.064227</td>\n",
       "      <td>1.000000</td>\n",
       "      <td>0.083725</td>\n",
       "      <td>-0.092483</td>\n",
       "    </tr>\n",
       "    <tr>\n",
       "      <th>Income</th>\n",
       "      <td>0.013099</td>\n",
       "      <td>0.029078</td>\n",
       "      <td>0.119754</td>\n",
       "      <td>-0.118505</td>\n",
       "      <td>-0.018528</td>\n",
       "      <td>-0.006700</td>\n",
       "      <td>-0.022527</td>\n",
       "      <td>0.052159</td>\n",
       "      <td>0.084427</td>\n",
       "      <td>0.068189</td>\n",
       "      <td>0.058408</td>\n",
       "      <td>0.027534</td>\n",
       "      <td>-0.005020</td>\n",
       "      <td>0.083725</td>\n",
       "      <td>1.000000</td>\n",
       "      <td>0.172766</td>\n",
       "    </tr>\n",
       "    <tr>\n",
       "      <th>ApprovalStatus</th>\n",
       "      <td>-0.019817</td>\n",
       "      <td>0.180252</td>\n",
       "      <td>0.207086</td>\n",
       "      <td>-0.179700</td>\n",
       "      <td>-0.169976</td>\n",
       "      <td>0.123314</td>\n",
       "      <td>-0.011023</td>\n",
       "      <td>0.332728</td>\n",
       "      <td>0.738829</td>\n",
       "      <td>0.451866</td>\n",
       "      <td>0.406052</td>\n",
       "      <td>0.050011</td>\n",
       "      <td>-0.100785</td>\n",
       "      <td>-0.092483</td>\n",
       "      <td>0.172766</td>\n",
       "      <td>1.000000</td>\n",
       "    </tr>\n",
       "  </tbody>\n",
       "</table>\n",
       "</div>"
      ],
      "text/plain": [
       "                  Gender       Age      Debt   Married  BankCustomer  \\\n",
       "Gender          1.000000  0.042177 -0.034906  0.066742      0.063122   \n",
       "Age             0.042177  1.000000  0.217681 -0.091395     -0.105122   \n",
       "Debt           -0.034906  0.217681  1.000000 -0.102243     -0.089745   \n",
       "Married         0.066742 -0.091395 -0.102243  1.000000      0.981080   \n",
       "BankCustomer    0.063122 -0.105122 -0.089745  0.981080      1.000000   \n",
       "EducationLevel -0.011568  0.023282  0.009221 -0.045024     -0.051335   \n",
       "Ethnicity       0.057212 -0.189454 -0.030666 -0.021015     -0.026003   \n",
       "YearsEmployed   0.084899  0.417647  0.300600 -0.089650     -0.081862   \n",
       "PriorDefault   -0.023251  0.218637  0.236751 -0.116015     -0.129090   \n",
       "Employed       -0.065192  0.103633  0.166092 -0.158118     -0.169691   \n",
       "CreditScore    -0.016683  0.198153  0.269834 -0.104061     -0.110822   \n",
       "DriversLicense  0.052315  0.058133 -0.006083 -0.009850      0.001747   \n",
       "Citizen         0.081948 -0.021586 -0.105181 -0.037934     -0.011931   \n",
       "ZipCode         0.109199 -0.090538 -0.266549 -0.001085      0.013922   \n",
       "Income          0.013099  0.029078  0.119754 -0.118505     -0.018528   \n",
       "ApprovalStatus -0.019817  0.180252  0.207086 -0.179700     -0.169976   \n",
       "\n",
       "                EducationLevel  Ethnicity  YearsEmployed  PriorDefault  \\\n",
       "Gender               -0.011568   0.057212       0.084899     -0.023251   \n",
       "Age                   0.023282  -0.189454       0.417647      0.218637   \n",
       "Debt                  0.009221  -0.030666       0.300600      0.236751   \n",
       "Married              -0.045024  -0.021015      -0.089650     -0.116015   \n",
       "BankCustomer         -0.051335  -0.026003      -0.081862     -0.129090   \n",
       "EducationLevel        1.000000  -0.000935       0.032704      0.105197   \n",
       "Ethnicity            -0.000935   1.000000      -0.094978     -0.034977   \n",
       "YearsEmployed         0.032704  -0.094978       1.000000      0.336148   \n",
       "PriorDefault          0.105197  -0.034977       0.336148      1.000000   \n",
       "Employed              0.112155  -0.001452       0.228035      0.430586   \n",
       "CreditScore          -0.002706  -0.037329       0.327325      0.378264   \n",
       "DriversLicense        0.069720  -0.004235       0.139317      0.089864   \n",
       "Citizen               0.017234   0.042494      -0.001762     -0.110474   \n",
       "ZipCode               0.107930  -0.019605      -0.093188     -0.064796   \n",
       "Income               -0.006700  -0.022527       0.052159      0.084427   \n",
       "ApprovalStatus        0.123314  -0.011023       0.332728      0.738829   \n",
       "\n",
       "                Employed  CreditScore  DriversLicense   Citizen   ZipCode  \\\n",
       "Gender         -0.065192    -0.016683        0.052315  0.081948  0.109199   \n",
       "Age             0.103633     0.198153        0.058133 -0.021586 -0.090538   \n",
       "Debt            0.166092     0.269834       -0.006083 -0.105181 -0.266549   \n",
       "Married        -0.158118    -0.104061       -0.009850 -0.037934 -0.001085   \n",
       "BankCustomer   -0.169691    -0.110822        0.001747 -0.011931  0.013922   \n",
       "EducationLevel  0.112155    -0.002706        0.069720  0.017234  0.107930   \n",
       "Ethnicity      -0.001452    -0.037329       -0.004235  0.042494 -0.019605   \n",
       "YearsEmployed   0.228035     0.327325        0.139317 -0.001762 -0.093188   \n",
       "PriorDefault    0.430586     0.378264        0.089864 -0.110474 -0.064796   \n",
       "Employed        1.000000     0.569176        0.020223 -0.233452 -0.070939   \n",
       "CreditScore     0.569176     1.000000        0.005757 -0.134091 -0.131468   \n",
       "DriversLicense  0.020223     0.005757        1.000000  0.017105  0.160364   \n",
       "Citizen        -0.233452    -0.134091        0.017105  1.000000  0.064227   \n",
       "ZipCode        -0.070939    -0.131468        0.160364  0.064227  1.000000   \n",
       "Income          0.068189     0.058408        0.027534 -0.005020  0.083725   \n",
       "ApprovalStatus  0.451866     0.406052        0.050011 -0.100785 -0.092483   \n",
       "\n",
       "                  Income  ApprovalStatus  \n",
       "Gender          0.013099       -0.019817  \n",
       "Age             0.029078        0.180252  \n",
       "Debt            0.119754        0.207086  \n",
       "Married        -0.118505       -0.179700  \n",
       "BankCustomer   -0.018528       -0.169976  \n",
       "EducationLevel -0.006700        0.123314  \n",
       "Ethnicity      -0.022527       -0.011023  \n",
       "YearsEmployed   0.052159        0.332728  \n",
       "PriorDefault    0.084427        0.738829  \n",
       "Employed        0.068189        0.451866  \n",
       "CreditScore     0.058408        0.406052  \n",
       "DriversLicense  0.027534        0.050011  \n",
       "Citizen        -0.005020       -0.100785  \n",
       "ZipCode         0.083725       -0.092483  \n",
       "Income          1.000000        0.172766  \n",
       "ApprovalStatus  0.172766        1.000000  "
      ]
     },
     "execution_count": 63,
     "metadata": {},
     "output_type": "execute_result"
    }
   ],
   "source": [
    "corr = dataset.corr()\n",
    "corr"
   ]
  },
  {
   "cell_type": "code",
   "execution_count": 64,
   "metadata": {},
   "outputs": [
    {
     "data": {
      "image/png": "[encoded data removed]",
      "text/plain": [
       "<Figure size 432x288 with 2 Axes>"
      ]
     },
     "metadata": {
      "needs_background": "light"
     },
     "output_type": "display_data"
    }
   ],
   "source": [
    "def make_corr_heatmap(data, corr):\n",
    "    sns.heatmap(corr, \n",
    "                xticklabels=corr.columns.values,\n",
    "                yticklabels=corr.columns.values)\n",
    "\n",
    "make_corr_heatmap(dataset, corr)"
   ]
  },
  {
   "cell_type": "code",
   "execution_count": 65,
   "metadata": {},
   "outputs": [
    {
     "data": {
      "text/plain": [
       "ApprovalStatus    1.000000\n",
       "PriorDefault      0.738829\n",
       "Employed          0.451866\n",
       "CreditScore       0.406052\n",
       "YearsEmployed     0.332728\n",
       "Debt              0.207086\n",
       "Age               0.180252\n",
       "Income            0.172766\n",
       "EducationLevel    0.123314\n",
       "DriversLicense    0.050011\n",
       "Ethnicity        -0.011023\n",
       "Gender           -0.019817\n",
       "ZipCode          -0.092483\n",
       "Citizen          -0.100785\n",
       "BankCustomer     -0.169976\n",
       "Married          -0.179700\n",
       "Name: ApprovalStatus, dtype: float64"
      ]
     },
     "execution_count": 65,
     "metadata": {},
     "output_type": "execute_result"
    }
   ],
   "source": [
    "corr['ApprovalStatus'].sort_values(ascending=False)"
   ]
  },
  {
   "cell_type": "code",
   "execution_count": 66,
   "metadata": {},
   "outputs": [],
   "source": [
    "dataset_dropColumns = dataset.drop(columns=['Ethnicity', 'Gender', 'ZipCode'])"
   ]
  },
  {
   "cell_type": "code",
   "execution_count": 67,
   "metadata": {},
   "outputs": [
    {
     "data": {
      "text/plain": [
       "array([[<matplotlib.axes._subplots.AxesSubplot object at 0x0000026AAFC33EB8>,\n",
       "        <matplotlib.axes._subplots.AxesSubplot object at 0x0000026AAFEBC358>,\n",
       "        <matplotlib.axes._subplots.AxesSubplot object at 0x0000026AAFEE4898>,\n",
       "        <matplotlib.axes._subplots.AxesSubplot object at 0x0000026AAFF0DDD8>],\n",
       "       [<matplotlib.axes._subplots.AxesSubplot object at 0x0000026AAFF3F390>,\n",
       "        <matplotlib.axes._subplots.AxesSubplot object at 0x0000026AAFF65908>,\n",
       "        <matplotlib.axes._subplots.AxesSubplot object at 0x0000026AAFF8EE80>,\n",
       "        <matplotlib.axes._subplots.AxesSubplot object at 0x0000026AAFFC0470>],\n",
       "       [<matplotlib.axes._subplots.AxesSubplot object at 0x0000026AAFFC04A8>,\n",
       "        <matplotlib.axes._subplots.AxesSubplot object at 0x0000026AB000DF28>,\n",
       "        <matplotlib.axes._subplots.AxesSubplot object at 0x0000026AB003E4E0>,\n",
       "        <matplotlib.axes._subplots.AxesSubplot object at 0x0000026AB0069A58>],\n",
       "       [<matplotlib.axes._subplots.AxesSubplot object at 0x0000026AB008FFD0>,\n",
       "        <matplotlib.axes._subplots.AxesSubplot object at 0x0000026AB00C0588>,\n",
       "        <matplotlib.axes._subplots.AxesSubplot object at 0x0000026AB00E8B00>,\n",
       "        <matplotlib.axes._subplots.AxesSubplot object at 0x0000026AB011C0B8>]],\n",
       "      dtype=object)"
      ]
     },
     "execution_count": 67,
     "metadata": {},
     "output_type": "execute_result"
    },
    {
     "data": {
      "image/png": "[encoded data removed]",
      "text/plain": [
       "<Figure size 1440x1080 with 16 Axes>"
      ]
     },
     "metadata": {
      "needs_background": "light"
     },
     "output_type": "display_data"
    }
   ],
   "source": [
    "dataset_dropColumns.hist(bins=20, figsize=(20, 15))"
   ]
  },
  {
   "cell_type": "code",
   "execution_count": 68,
   "metadata": {},
   "outputs": [
    {
     "data": {
      "text/plain": [
       "1    499\n",
       "2    152\n",
       "0      2\n",
       "Name: Married, dtype: int64"
      ]
     },
     "execution_count": 68,
     "metadata": {},
     "output_type": "execute_result"
    }
   ],
   "source": [
    "dataset_dropColumns['Married'].value_counts()"
   ]
  },
  {
   "cell_type": "code",
   "execution_count": 69,
   "metadata": {},
   "outputs": [
    {
     "data": {
      "text/html": [
       "<div>\n",
       "<style scoped>\n",
       "    .dataframe tbody tr th:only-of-type {\n",
       "        vertical-align: middle;\n",
       "    }\n",
       "\n",
       "    .dataframe tbody tr th {\n",
       "        vertical-align: top;\n",
       "    }\n",
       "\n",
       "    .dataframe thead th {\n",
       "        text-align: right;\n",
       "    }\n",
       "</style>\n",
       "<table border=\"1\" class=\"dataframe\">\n",
       "  <thead>\n",
       "    <tr style=\"text-align: right;\">\n",
       "      <th></th>\n",
       "      <th>Age</th>\n",
       "      <th>Debt</th>\n",
       "      <th>Married</th>\n",
       "      <th>BankCustomer</th>\n",
       "      <th>EducationLevel</th>\n",
       "      <th>YearsEmployed</th>\n",
       "      <th>PriorDefault</th>\n",
       "      <th>Employed</th>\n",
       "      <th>CreditScore</th>\n",
       "      <th>DriversLicense</th>\n",
       "      <th>Citizen</th>\n",
       "      <th>Income</th>\n",
       "      <th>ApprovalStatus</th>\n",
       "    </tr>\n",
       "  </thead>\n",
       "  <tbody>\n",
       "    <tr>\n",
       "      <th>317</th>\n",
       "      <td>17.50</td>\n",
       "      <td>22.000</td>\n",
       "      <td>0</td>\n",
       "      <td>1</td>\n",
       "      <td>5</td>\n",
       "      <td>0.0</td>\n",
       "      <td>0</td>\n",
       "      <td>0</td>\n",
       "      <td>0</td>\n",
       "      <td>1</td>\n",
       "      <td>1</td>\n",
       "      <td>100000</td>\n",
       "      <td>1</td>\n",
       "    </tr>\n",
       "    <tr>\n",
       "      <th>321</th>\n",
       "      <td>18.08</td>\n",
       "      <td>0.375</td>\n",
       "      <td>0</td>\n",
       "      <td>1</td>\n",
       "      <td>2</td>\n",
       "      <td>10.0</td>\n",
       "      <td>0</td>\n",
       "      <td>0</td>\n",
       "      <td>0</td>\n",
       "      <td>1</td>\n",
       "      <td>2</td>\n",
       "      <td>0</td>\n",
       "      <td>1</td>\n",
       "    </tr>\n",
       "  </tbody>\n",
       "</table>\n",
       "</div>"
      ],
      "text/plain": [
       "       Age    Debt  Married  BankCustomer  EducationLevel  YearsEmployed  \\\n",
       "317  17.50  22.000        0             1               5            0.0   \n",
       "321  18.08   0.375        0             1               2           10.0   \n",
       "\n",
       "     PriorDefault  Employed  CreditScore  DriversLicense  Citizen  Income  \\\n",
       "317             0         0            0               1        1  100000   \n",
       "321             0         0            0               1        2       0   \n",
       "\n",
       "     ApprovalStatus  \n",
       "317               1  \n",
       "321               1  "
      ]
     },
     "execution_count": 69,
     "metadata": {},
     "output_type": "execute_result"
    }
   ],
   "source": [
    "dataset_Married_3_values = dataset_dropColumns[dataset_dropColumns['Married'] == 0]\n",
    "dataset_Married_3_values.head()"
   ]
  },
  {
   "cell_type": "code",
   "execution_count": 70,
   "metadata": {},
   "outputs": [
    {
     "data": {
      "text/plain": [
       "1    499\n",
       "2    152\n",
       "Name: Married, dtype: int64"
      ]
     },
     "execution_count": 70,
     "metadata": {},
     "output_type": "execute_result"
    }
   ],
   "source": [
    "dataset_dropColumns = dataset_dropColumns[dataset_dropColumns['Married'] != 0]\n",
    "dataset_dropColumns['Married'].value_counts()"
   ]
  },
  {
   "cell_type": "code",
   "execution_count": 71,
   "metadata": {},
   "outputs": [
    {
     "data": {
      "text/plain": [
       "572"
      ]
     },
     "execution_count": 71,
     "metadata": {},
     "output_type": "execute_result"
    }
   ],
   "source": [
    "dataset_dropColumns[dataset_dropColumns['CreditScore']<8]['CreditScore'].value_counts().sum()"
   ]
  },
  {
   "cell_type": "code",
   "execution_count": 72,
   "metadata": {},
   "outputs": [
    {
     "data": {
      "text/plain": [
       "<matplotlib.axes._subplots.AxesSubplot at 0x26ab075c320>"
      ]
     },
     "execution_count": 72,
     "metadata": {},
     "output_type": "execute_result"
    },
    {
     "data": {
      "image/png": "[encoded data removed]",
      "text/plain": [
       "<Figure size 1440x360 with 1 Axes>"
      ]
     },
     "metadata": {
      "needs_background": "light"
     },
     "output_type": "display_data"
    }
   ],
   "source": [
    "dataset_dropColumns['CreditScore'].hist(bins=100, figsize=(20, 5))"
   ]
  },
  {
   "cell_type": "code",
   "execution_count": 73,
   "metadata": {},
   "outputs": [
    {
     "name": "stdout",
     "output_type": "stream",
     "text": [
      "<class 'pandas.core.frame.DataFrame'>\n",
      "Int64Index: 651 entries, 0 to 689\n",
      "Data columns (total 13 columns):\n",
      "Age               651 non-null float64\n",
      "Debt              651 non-null float64\n",
      "Married           651 non-null int32\n",
      "BankCustomer      651 non-null int32\n",
      "EducationLevel    651 non-null int32\n",
      "YearsEmployed     651 non-null float64\n",
      "PriorDefault      651 non-null int32\n",
      "Employed          651 non-null int32\n",
      "CreditScore       651 non-null int64\n",
      "DriversLicense    651 non-null int32\n",
      "Citizen           651 non-null int32\n",
      "Income            651 non-null int64\n",
      "ApprovalStatus    651 non-null int64\n",
      "dtypes: float64(3), int32(7), int64(3)\n",
      "memory usage: 53.4 KB\n"
     ]
    }
   ],
   "source": [
    "dataset_dropColumns.info()"
   ]
  },
  {
   "cell_type": "code",
   "execution_count": 74,
   "metadata": {},
   "outputs": [],
   "source": [
    "# one hot encoding 'Citizen', 'Married', 'BankCustomer'\n",
    "\n",
    "preprocess = make_column_transformer((OneHotEncoder(categories='auto'), ['Citizen', 'Married', 'BankCustomer']))"
   ]
  },
  {
   "cell_type": "code",
   "execution_count": 75,
   "metadata": {},
   "outputs": [],
   "source": [
    "dataset_dropColumns_nominal = preprocess.fit_transform(dataset_dropColumns)"
   ]
  },
  {
   "cell_type": "code",
   "execution_count": 76,
   "metadata": {},
   "outputs": [
    {
     "data": {
      "text/plain": [
       "array([[1., 0., 0., ..., 0., 1., 0.],\n",
       "       [1., 0., 0., ..., 0., 1., 0.],\n",
       "       [1., 0., 0., ..., 0., 1., 0.],\n",
       "       ...,\n",
       "       [1., 0., 0., ..., 1., 0., 1.],\n",
       "       [1., 0., 0., ..., 0., 1., 0.],\n",
       "       [1., 0., 0., ..., 0., 1., 0.]])"
      ]
     },
     "execution_count": 76,
     "metadata": {},
     "output_type": "execute_result"
    }
   ],
   "source": [
    "dataset_dropColumns_nominal"
   ]
  },
  {
   "cell_type": "code",
   "execution_count": 78,
   "metadata": {},
   "outputs": [],
   "source": [
    "dataset_dropColumns=dataset_dropColumns.drop(columns=['Citizen', 'Married', 'BankCustomer'])"
   ]
  },
  {
   "cell_type": "code",
   "execution_count": 80,
   "metadata": {},
   "outputs": [
    {
     "name": "stdout",
     "output_type": "stream",
     "text": [
      "<class 'pandas.core.frame.DataFrame'>\n",
      "Int64Index: 651 entries, 0 to 689\n",
      "Data columns (total 10 columns):\n",
      "Age               651 non-null float64\n",
      "Debt              651 non-null float64\n",
      "EducationLevel    651 non-null int32\n",
      "YearsEmployed     651 non-null float64\n",
      "PriorDefault      651 non-null int32\n",
      "Employed          651 non-null int32\n",
      "CreditScore       651 non-null int64\n",
      "DriversLicense    651 non-null int32\n",
      "Income            651 non-null int64\n",
      "ApprovalStatus    651 non-null int64\n",
      "dtypes: float64(3), int32(4), int64(3)\n",
      "memory usage: 45.8 KB\n"
     ]
    }
   ],
   "source": [
    "dataset_dropColumns.info()"
   ]
  },
  {
   "cell_type": "code",
   "execution_count": 81,
   "metadata": {},
   "outputs": [],
   "source": [
    "dataset_1hot = np.concatenate((dataset_dropColumns_nominal,dataset_dropColumns.iloc[0:, 0:]),axis=1)"
   ]
  },
  {
   "cell_type": "code",
   "execution_count": 83,
   "metadata": {},
   "outputs": [
    {
     "data": {
      "text/plain": [
       "array([[  1.,   0.,   0., ...,   0.,   0.,   1.],\n",
       "       [  1.,   0.,   0., ...,   0., 560.,   1.],\n",
       "       [  1.,   0.,   0., ...,   0., 824.,   1.],\n",
       "       ...,\n",
       "       [  1.,   0.,   0., ...,   1.,   1.,   0.],\n",
       "       [  1.,   0.,   0., ...,   0., 750.,   0.],\n",
       "       [  1.,   0.,   0., ...,   1.,   0.,   0.]])"
      ]
     },
     "execution_count": 83,
     "metadata": {},
     "output_type": "execute_result"
    }
   ],
   "source": [
    "dataset_1hot"
   ]
  },
  {
   "cell_type": "code",
   "execution_count": 89,
   "metadata": {},
   "outputs": [],
   "source": [
    "df_1hot = pd.DataFrame(data=dataset_1hot[0:, 0:])"
   ]
  },
  {
   "cell_type": "code",
   "execution_count": 90,
   "metadata": {
    "scrolled": true
   },
   "outputs": [
    {
     "data": {
      "text/html": [
       "<div>\n",
       "<style scoped>\n",
       "    .dataframe tbody tr th:only-of-type {\n",
       "        vertical-align: middle;\n",
       "    }\n",
       "\n",
       "    .dataframe tbody tr th {\n",
       "        vertical-align: top;\n",
       "    }\n",
       "\n",
       "    .dataframe thead th {\n",
       "        text-align: right;\n",
       "    }\n",
       "</style>\n",
       "<table border=\"1\" class=\"dataframe\">\n",
       "  <thead>\n",
       "    <tr style=\"text-align: right;\">\n",
       "      <th></th>\n",
       "      <th>0</th>\n",
       "      <th>1</th>\n",
       "      <th>2</th>\n",
       "      <th>3</th>\n",
       "      <th>4</th>\n",
       "      <th>5</th>\n",
       "      <th>6</th>\n",
       "      <th>7</th>\n",
       "      <th>8</th>\n",
       "      <th>9</th>\n",
       "      <th>10</th>\n",
       "      <th>11</th>\n",
       "      <th>12</th>\n",
       "      <th>13</th>\n",
       "      <th>14</th>\n",
       "      <th>15</th>\n",
       "      <th>16</th>\n",
       "    </tr>\n",
       "  </thead>\n",
       "  <tbody>\n",
       "    <tr>\n",
       "      <th>0</th>\n",
       "      <td>1.0</td>\n",
       "      <td>0.0</td>\n",
       "      <td>0.0</td>\n",
       "      <td>1.0</td>\n",
       "      <td>0.0</td>\n",
       "      <td>1.0</td>\n",
       "      <td>0.0</td>\n",
       "      <td>30.83</td>\n",
       "      <td>0.000</td>\n",
       "      <td>12.0</td>\n",
       "      <td>1.25</td>\n",
       "      <td>1.0</td>\n",
       "      <td>1.0</td>\n",
       "      <td>1.0</td>\n",
       "      <td>0.0</td>\n",
       "      <td>0.0</td>\n",
       "      <td>1.0</td>\n",
       "    </tr>\n",
       "    <tr>\n",
       "      <th>1</th>\n",
       "      <td>1.0</td>\n",
       "      <td>0.0</td>\n",
       "      <td>0.0</td>\n",
       "      <td>1.0</td>\n",
       "      <td>0.0</td>\n",
       "      <td>1.0</td>\n",
       "      <td>0.0</td>\n",
       "      <td>58.67</td>\n",
       "      <td>4.460</td>\n",
       "      <td>10.0</td>\n",
       "      <td>3.04</td>\n",
       "      <td>1.0</td>\n",
       "      <td>1.0</td>\n",
       "      <td>6.0</td>\n",
       "      <td>0.0</td>\n",
       "      <td>560.0</td>\n",
       "      <td>1.0</td>\n",
       "    </tr>\n",
       "    <tr>\n",
       "      <th>2</th>\n",
       "      <td>1.0</td>\n",
       "      <td>0.0</td>\n",
       "      <td>0.0</td>\n",
       "      <td>1.0</td>\n",
       "      <td>0.0</td>\n",
       "      <td>1.0</td>\n",
       "      <td>0.0</td>\n",
       "      <td>24.50</td>\n",
       "      <td>0.500</td>\n",
       "      <td>10.0</td>\n",
       "      <td>1.50</td>\n",
       "      <td>1.0</td>\n",
       "      <td>0.0</td>\n",
       "      <td>0.0</td>\n",
       "      <td>0.0</td>\n",
       "      <td>824.0</td>\n",
       "      <td>1.0</td>\n",
       "    </tr>\n",
       "    <tr>\n",
       "      <th>3</th>\n",
       "      <td>1.0</td>\n",
       "      <td>0.0</td>\n",
       "      <td>0.0</td>\n",
       "      <td>1.0</td>\n",
       "      <td>0.0</td>\n",
       "      <td>1.0</td>\n",
       "      <td>0.0</td>\n",
       "      <td>27.83</td>\n",
       "      <td>1.540</td>\n",
       "      <td>12.0</td>\n",
       "      <td>3.75</td>\n",
       "      <td>1.0</td>\n",
       "      <td>1.0</td>\n",
       "      <td>5.0</td>\n",
       "      <td>1.0</td>\n",
       "      <td>3.0</td>\n",
       "      <td>1.0</td>\n",
       "    </tr>\n",
       "    <tr>\n",
       "      <th>4</th>\n",
       "      <td>0.0</td>\n",
       "      <td>0.0</td>\n",
       "      <td>1.0</td>\n",
       "      <td>1.0</td>\n",
       "      <td>0.0</td>\n",
       "      <td>1.0</td>\n",
       "      <td>0.0</td>\n",
       "      <td>20.17</td>\n",
       "      <td>5.625</td>\n",
       "      <td>12.0</td>\n",
       "      <td>1.71</td>\n",
       "      <td>1.0</td>\n",
       "      <td>0.0</td>\n",
       "      <td>0.0</td>\n",
       "      <td>0.0</td>\n",
       "      <td>0.0</td>\n",
       "      <td>1.0</td>\n",
       "    </tr>\n",
       "  </tbody>\n",
       "</table>\n",
       "</div>"
      ],
      "text/plain": [
       "    0    1    2    3    4    5    6      7      8     9     10   11   12   13  \\\n",
       "0  1.0  0.0  0.0  1.0  0.0  1.0  0.0  30.83  0.000  12.0  1.25  1.0  1.0  1.0   \n",
       "1  1.0  0.0  0.0  1.0  0.0  1.0  0.0  58.67  4.460  10.0  3.04  1.0  1.0  6.0   \n",
       "2  1.0  0.0  0.0  1.0  0.0  1.0  0.0  24.50  0.500  10.0  1.50  1.0  0.0  0.0   \n",
       "3  1.0  0.0  0.0  1.0  0.0  1.0  0.0  27.83  1.540  12.0  3.75  1.0  1.0  5.0   \n",
       "4  0.0  0.0  1.0  1.0  0.0  1.0  0.0  20.17  5.625  12.0  1.71  1.0  0.0  0.0   \n",
       "\n",
       "    14     15   16  \n",
       "0  0.0    0.0  1.0  \n",
       "1  0.0  560.0  1.0  \n",
       "2  0.0  824.0  1.0  \n",
       "3  1.0    3.0  1.0  \n",
       "4  0.0    0.0  1.0  "
      ]
     },
     "execution_count": 90,
     "metadata": {},
     "output_type": "execute_result"
    }
   ],
   "source": [
    "df_1hot.head()"
   ]
  },
  {
   "cell_type": "code",
   "execution_count": null,
   "metadata": {},
   "outputs": [],
   "source": [
    "# divide to 3 set\n",
    "#target column shouldn't be changed\n",
    "#give labels after one hot encoding"
   ]
  }
 ],
 "metadata": {
  "kernelspec": {
   "display_name": "Python 3",
   "language": "python",
   "name": "python3"
  },
  "language_info": {
   "codemirror_mode": {
    "name": "ipython",
    "version": 3
   },
   "file_extension": ".py",
   "mimetype": "text/x-python",
   "name": "python",
   "nbconvert_exporter": "python",
   "pygments_lexer": "ipython3",
   "version": "3.7.1"
  }
 },
 "nbformat": 4,
 "nbformat_minor": 2
}
