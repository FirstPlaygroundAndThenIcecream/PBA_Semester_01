{
 "cells": [
  {
   "cell_type": "markdown",
   "metadata": {},
   "source": [
    "$ \\Huge{Statistics \\quad for \\quad Data \\quad Science \\quad 1} $"
   ]
  },
  {
   "cell_type": "markdown",
   "metadata": {},
   "source": [
    "All examples from *How to Design and Report Experiments* by Andy Field & Graham Hole - ISBN 978-0-7619-7383-6"
   ]
  },
  {
   "cell_type": "code",
   "execution_count": 1,
   "metadata": {},
   "outputs": [],
   "source": [
    "import numpy as np\n",
    "import pandas as pd\n",
    "%matplotlib inline\n",
    "import matplotlib\n",
    "import matplotlib.pyplot as plt"
   ]
  },
  {
   "cell_type": "markdown",
   "metadata": {},
   "source": [
    "# What we will talk about:\n",
    "\n",
    "- descriptive statistics (week 14)\n",
    "- dimensionality reduction (week 14)\n",
    "- cluster analysis (week 14)\n",
    "- inferential statistics (week 15)\n",
    "- parametric statistics (week 15)\n",
    "- non-parametric statistics (week 15)\n",
    "- choosing a statistical test (week 15)"
   ]
  },
  {
   "cell_type": "markdown",
   "metadata": {},
   "source": [
    "# Descriptive Statistics"
   ]
  },
  {
   "cell_type": "markdown",
   "metadata": {},
   "source": [
    "### Popuplations vs Samples"
   ]
  },
  {
   "cell_type": "markdown",
   "metadata": {},
   "source": [
    "- what are populations and samples?"
   ]
  },
  {
   "cell_type": "markdown",
   "metadata": {},
   "source": [
    "### Summarizing Data"
   ]
  },
  {
   "cell_type": "markdown",
   "metadata": {},
   "source": [
    "- when summarizing data, we often calculate a summary or make a chart"
   ]
  },
  {
   "cell_type": "code",
   "execution_count": 2,
   "metadata": {},
   "outputs": [],
   "source": [
    "# observations of number of *amphetamine psychosis* per day\n",
    "\n",
    "h = [10, 6, 7, 8, 9, 7, 10, 2, 6, 8, \n",
    "     3, 9, 8, 10, 1, 5, 8, 4, 2, 9, \n",
    "     10, 6, 7, 8, 9, 7, 10, 2, 6, 8, \n",
    "     3, 9, 8, 10, 1, 5, 8, 4, 2, 9]"
   ]
  },
  {
   "cell_type": "code",
   "execution_count": 3,
   "metadata": {},
   "outputs": [],
   "source": [
    "h_sorted = h.copy()\n",
    "h_sorted.sort()"
   ]
  },
  {
   "cell_type": "code",
   "execution_count": 4,
   "metadata": {},
   "outputs": [],
   "source": [
    "h_df = pd.DataFrame(h)"
   ]
  },
  {
   "cell_type": "code",
   "execution_count": 5,
   "metadata": {},
   "outputs": [
    {
     "data": {
      "image/png": "[encoded data removed]",
      "text/plain": [
       "<Figure size 432x288 with 1 Axes>"
      ]
     },
     "metadata": {
      "needs_background": "light"
     },
     "output_type": "display_data"
    }
   ],
   "source": [
    "h_hist = h_df.hist(bins=np.arange(0.5, 11.5, 1.0), rwidth=0.8)\n",
    "plt.title('Hallucinations of amphetamine psychosis patients')\n",
    "plt.xlabel('Number of hallucinations')\n",
    "plt.ylabel('Frequency in sample')\n",
    "plt.xticks(range(11))\n",
    "plt.show()"
   ]
  },
  {
   "cell_type": "code",
   "execution_count": 6,
   "metadata": {},
   "outputs": [
    {
     "data": {
      "text/html": [
       "<div>\n",
       "<style scoped>\n",
       "    .dataframe tbody tr th:only-of-type {\n",
       "        vertical-align: middle;\n",
       "    }\n",
       "\n",
       "    .dataframe tbody tr th {\n",
       "        vertical-align: top;\n",
       "    }\n",
       "\n",
       "    .dataframe thead th {\n",
       "        text-align: right;\n",
       "    }\n",
       "</style>\n",
       "<table border=\"1\" class=\"dataframe\">\n",
       "  <thead>\n",
       "    <tr style=\"text-align: right;\">\n",
       "      <th></th>\n",
       "      <th>0</th>\n",
       "    </tr>\n",
       "  </thead>\n",
       "  <tbody>\n",
       "    <tr>\n",
       "      <th>0</th>\n",
       "      <td>8</td>\n",
       "    </tr>\n",
       "  </tbody>\n",
       "</table>\n",
       "</div>"
      ],
      "text/plain": [
       "   0\n",
       "0  8"
      ]
     },
     "execution_count": 6,
     "metadata": {},
     "output_type": "execute_result"
    }
   ],
   "source": [
    "# The mode: most frequent observation\n",
    "h_df.mode()"
   ]
  },
  {
   "cell_type": "code",
   "execution_count": 7,
   "metadata": {},
   "outputs": [
    {
     "data": {
      "text/plain": [
       "0    7.5\n",
       "dtype: float64"
      ]
     },
     "execution_count": 7,
     "metadata": {},
     "output_type": "execute_result"
    }
   ],
   "source": [
    "# The median: the center element\n",
    "h_df.median()"
   ]
  },
  {
   "cell_type": "code",
   "execution_count": 8,
   "metadata": {},
   "outputs": [
    {
     "data": {
      "text/plain": [
       "0    6.6\n",
       "dtype: float64"
      ]
     },
     "execution_count": 8,
     "metadata": {},
     "output_type": "execute_result"
    }
   ],
   "source": [
    "# The mean\n",
    "h_df.mean()"
   ]
  },
  {
   "cell_type": "markdown",
   "metadata": {},
   "source": [
    "The mean is defined as: $\\mu = \\overline{x} = \\frac{\\sum{x}}{n}$"
   ]
  },
  {
   "cell_type": "code",
   "execution_count": 9,
   "metadata": {},
   "outputs": [
    {
     "data": {
      "text/plain": [
       "0    8.041026\n",
       "dtype: float64"
      ]
     },
     "execution_count": 9,
     "metadata": {},
     "output_type": "execute_result"
    }
   ],
   "source": [
    "# The variance\n",
    "h_df.var()"
   ]
  },
  {
   "cell_type": "markdown",
   "metadata": {},
   "source": [
    "The variance is defined as: \n",
    "\n",
    "$\\sigma = \\frac{\\sum{(x_i - \\mu)}^2}{n}$ for samples (degrees of freedom is 0),\n",
    "\n",
    "$s^2 = \\frac{\\sum{(x_i - \\mu)}^2}{n - 1}$ for populations (degrees of freedom is 1)"
   ]
  },
  {
   "cell_type": "code",
   "execution_count": 10,
   "metadata": {},
   "outputs": [
    {
     "data": {
      "text/plain": [
       "0    7.84\n",
       "dtype: float64"
      ]
     },
     "execution_count": 10,
     "metadata": {},
     "output_type": "execute_result"
    }
   ],
   "source": [
    "h_df.var(ddof=0)"
   ]
  },
  {
   "cell_type": "code",
   "execution_count": 11,
   "metadata": {},
   "outputs": [
    {
     "data": {
      "text/plain": [
       "0    8.041026\n",
       "dtype: float64"
      ]
     },
     "execution_count": 11,
     "metadata": {},
     "output_type": "execute_result"
    }
   ],
   "source": [
    "h_df.var(ddof=1)"
   ]
  },
  {
   "cell_type": "code",
   "execution_count": 12,
   "metadata": {},
   "outputs": [
    {
     "data": {
      "text/plain": [
       "0    2.83567\n",
       "dtype: float64"
      ]
     },
     "execution_count": 12,
     "metadata": {},
     "output_type": "execute_result"
    }
   ],
   "source": [
    "# The standard deviation\n",
    "h_df.std()"
   ]
  },
  {
   "cell_type": "markdown",
   "metadata": {},
   "source": [
    "The standard deviation is defined as: \n",
    "\n",
    "$s = \\sqrt{\\frac{\\sum{(x_i - \\mu)}^2}{n}}$\n",
    "\n",
    "$s = \\sqrt{\\frac{\\sum{(x_i - \\mu)}^2}{n - 1}}$"
   ]
  },
  {
   "cell_type": "code",
   "execution_count": 13,
   "metadata": {},
   "outputs": [
    {
     "data": {
      "text/plain": [
       "0    0.448359\n",
       "dtype: float64"
      ]
     },
     "execution_count": 13,
     "metadata": {},
     "output_type": "execute_result"
    }
   ],
   "source": [
    "# The standard error of the mean- for degrees of freedom 1\n",
    "h_df.sem()"
   ]
  },
  {
   "cell_type": "markdown",
   "metadata": {},
   "source": [
    "Standard error of the mean is defined as:\n",
    "\n",
    "$\\sigma_\\mu = \\frac{\\mu}{\\sqrt{n}}$"
   ]
  },
  {
   "cell_type": "markdown",
   "metadata": {},
   "source": [
    "Statistics is most often communicated as one or a few numbers out of context. That is useless.\n",
    "\n",
    "Instead, it should be communicated in a proper context:\n",
    "\n",
    "- The number of units drunk before snogging Ben the Labrador was 10.00 units (SE=1.22)\n",
    "- On average the Labradors had to be given 26.65 units of alcohol (SE=3.42) before they would play tonsil hockey with any of the blokes.\n",
    "\n",
    "Or even better:\n",
    "\n",
    "- Women needed substantially more units of alcohol (M=17.24, SE=2.53) than men (M=10.00, SE=1.22) before they would exchange saliva with a Labrador.\n",
    "- Although Labradors would lick the participant's feet after very little alcohol (M=0.28, SE=0.11), they needed considerably more before they would do the tongue tango with the men (M=26.65, SE=3.42)."
   ]
  },
  {
   "cell_type": "markdown",
   "metadata": {},
   "source": [
    "# Dimensionality Reduction"
   ]
  },
  {
   "cell_type": "markdown",
   "metadata": {},
   "source": [
    "Dimensionality reduction are mainly used for:\n",
    "\n",
    "- visualization\n",
    "- compression"
   ]
  },
  {
   "cell_type": "markdown",
   "metadata": {},
   "source": [
    "## Principal Component Analysis"
   ]
  },
  {
   "cell_type": "markdown",
   "metadata": {},
   "source": [
    "PCA is an effective way of doing dimensionality reduction.\n",
    "\n",
    "PCA envolves matrix calculus, but fortunately Numpy will do all the work for us.\n",
    "\n",
    "We start by finding the covariance matrix $\\Sigma$ (that is *sigma*, not sum):\n",
    "\n",
    "$\\Sigma = \\frac{1}{m}X^T X$\n",
    "\n",
    "We then use *singular value decomposition* to compute the principal components of $U$, using Numpy:\n",
    "\n",
    "$U, S, V = np.linalg.svd(Sigma)$\n",
    "\n",
    "Then we can compute the projection of $Z$ of $X$ onto $k$ dimensions:\n",
    "\n",
    "$Z = X U_k$"
   ]
  },
  {
   "cell_type": "code",
   "execution_count": null,
   "metadata": {},
   "outputs": [],
   "source": [
    "# basic implementation of PCA\n",
    "\n",
    "def pca(X, k):\n",
    "    assert(type(X) == np.ndarray)\n",
    "    assert(type(k) == int)\n",
    "    # m: number of samples, n: number of features\n",
    "    m, n = X.shape\n",
    "    Sigma = (1/float(m)) * (X.T.dot(X))\n",
    "    U, S, V = np.linalg.svd(Sigma)\n",
    "    U = U[:, 0:k]\n",
    "    Z = X.dot(U)\n",
    "    return Z"
   ]
  },
  {
   "cell_type": "markdown",
   "metadata": {},
   "source": [
    "# Cluster Analysis"
   ]
  },
  {
   "cell_type": "markdown",
   "metadata": {},
   "source": [
    "Pseudo-code for K-Means: http://citeseerx.ist.psu.edu/viewdoc/download?doi=10.1.1.33.9202&rep=rep1&type=pdf"
   ]
  },
  {
   "cell_type": "code",
   "execution_count": null,
   "metadata": {},
   "outputs": [],
   "source": []
  },
  {
   "cell_type": "markdown",
   "metadata": {},
   "source": [
    "# Assignment 1"
   ]
  },
  {
   "cell_type": "markdown",
   "metadata": {},
   "source": [
    "Based on the attendance dataset:\n",
    "\n",
    "- describe the dataset using descriptive statistics\n",
    "- make an implementation of K-Means and identify clusters of students in the dataset\n",
    "- use PCA dimensionality reduction to visualize the dataset\n",
    "\n",
    "Summarize your findings in a presentation - prepare a 5 min presentation."
   ]
  },
  {
   "cell_type": "code",
   "execution_count": null,
   "metadata": {},
   "outputs": [],
   "source": []
  }
 ],
 "metadata": {
  "kernelspec": {
   "display_name": "Python 3",
   "language": "python",
   "name": "python3"
  },
  "language_info": {
   "codemirror_mode": {
    "name": "ipython",
    "version": 3
   },
   "file_extension": ".py",
   "mimetype": "text/x-python",
   "name": "python",
   "nbconvert_exporter": "python",
   "pygments_lexer": "ipython3",
   "version": "3.6.8"
  }
 },
 "nbformat": 4,
 "nbformat_minor": 2
}
